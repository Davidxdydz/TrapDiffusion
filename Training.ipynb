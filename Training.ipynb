{
 "cells": [
  {
   "cell_type": "code",
   "execution_count": 1,
   "metadata": {},
   "outputs": [],
   "source": [
    "%load_ext autoreload\n",
    "%autoreload 2\n",
    "%load_ext line_profiler"
   ]
  },
  {
   "cell_type": "code",
   "execution_count": 2,
   "metadata": {},
   "outputs": [
    {
     "name": "stdout",
     "output_type": "stream",
     "text": [
      "Using PyTorch backend.\n"
     ]
    }
   ],
   "source": [
    "import numpy as np\n",
    "import os\n",
    "os.environ['KERAS_BACKEND'] = 'torch'\n",
    "import keras_core as keras\n",
    "from models.analytical.trapdiffusion import SingleOccupationSingleIsotope\n",
    "from tqdm.auto import tqdm\n",
    "import matplotlib.pyplot as plt\n",
    "import pathlib\n",
    "from typing import Dict, Union\n",
    "import yaml"
   ]
  },
  {
   "cell_type": "code",
   "execution_count": 10,
   "metadata": {},
   "outputs": [],
   "source": [
    "def create_dataset(dataset_name, dir = \"datasets\",configs = 1000, initial_per_config = 100,n_timesteps = 50, info : Union[Dict,None] = None, random_init = False, seed = None):\n",
    "    bytes_per_sample = 17*8\n",
    "    if configs <= 1:\n",
    "        bytes_per_sample += 7*8\n",
    "    total_samples = configs*initial_per_config*n_timesteps\n",
    "    print(f\"Estimated size: {total_samples*bytes_per_sample/1024**2} MB\")\n",
    "    np.random.seed(seed)\n",
    "    x,y = [], []\n",
    "    for _ in tqdm(range(configs), desc=\"configs\"):\n",
    "        analytical_model = SingleOccupationSingleIsotope(2,1)\n",
    "        relevant_params = analytical_model.get_relevant_params()\n",
    "        for _ in tqdm(range(initial_per_config), desc = \"initial_values\", disable=configs > 1):\n",
    "            if random_init:\n",
    "                c_init = np.random.random(3)\n",
    "                c_init = c_init/np.sum(c_init)\n",
    "            else:\n",
    "                c_init = analytical_model.initial_values()\n",
    "            ts, cs = analytical_model.solve(c_init,n_timesteps)\n",
    "            for t,c in zip(ts,cs.T):\n",
    "                training_data = [t]+list(c_init)\n",
    "                if configs != 1:\n",
    "                    training_data += relevant_params\n",
    "                x.append(training_data)\n",
    "                y.append(c)\n",
    "    x,y = np.array(x), np.array(y)\n",
    "    dir = pathlib.Path(dir)\n",
    "    dir.mkdir(exist_ok=True)\n",
    "    dataset_dir = dir.joinpath(dataset_name)\n",
    "    dataset_dir.mkdir(exist_ok=True)\n",
    "    np.save(dataset_dir.joinpath('x.npy'),x)\n",
    "    np.save(dataset_dir.joinpath('y.npy'),y)\n",
    "    if info is None:\n",
    "        info = dict()\n",
    "    info['configs'] = configs\n",
    "    info['initial_per_params'] = initial_per_config\n",
    "    info['n_timesteps'] = n_timesteps\n",
    "    info['x'] = \"t, c_s, c_t_1, c_t_2, relevant_params\"\n",
    "    info['y'] = \"c_s, c_t_1, c_t_2 at time t\"\n",
    "    info['random_init'] = random_init\n",
    "    with open(dataset_dir.joinpath('info.yaml'),'w') as f:\n",
    "        yaml.safe_dump(info,f)\n",
    "\n",
    "def load_dataset(name, dir = \"datasets\"):\n",
    "    dir = pathlib.Path(dir)\n",
    "    dataset_dir = dir.joinpath(name)\n",
    "    x = np.load(dataset_dir.joinpath('x.npy'))\n",
    "    y = np.load(dataset_dir.joinpath('y.npy'))\n",
    "    with open(dataset_dir.joinpath('info.yaml'),'r') as f:\n",
    "        info = yaml.safe_load(f)\n",
    "    return x,y,info"
   ]
  },
  {
   "cell_type": "code",
   "execution_count": 95,
   "metadata": {},
   "outputs": [
    {
     "data": {
      "application/vnd.jupyter.widget-view+json": {
       "model_id": "5511212bcd42404c9292789c163ea0da",
       "version_major": 2,
       "version_minor": 0
      },
      "text/plain": [
       "configs:   0%|          | 0/1 [00:00<?, ?it/s]"
      ]
     },
     "metadata": {},
     "output_type": "display_data"
    },
    {
     "data": {
      "application/vnd.jupyter.widget-view+json": {
       "model_id": "8d48dd067af0458da37cb87414e3712d",
       "version_major": 2,
       "version_minor": 0
      },
      "text/plain": [
       "initial_values:   0%|          | 0/10000 [00:00<?, ?it/s]"
      ]
     },
     "metadata": {},
     "output_type": "display_data"
    }
   ],
   "source": [
    "create_dataset('basic',configs= 1, initial_per_config=10000,n_timesteps=100, seed = 1)"
   ]
  },
  {
   "cell_type": "code",
   "execution_count": 11,
   "metadata": {},
   "outputs": [
    {
     "name": "stdout",
     "output_type": "stream",
     "text": [
      "Estimated size: 648.49853515625 MB\n"
     ]
    },
    {
     "data": {
      "application/vnd.jupyter.widget-view+json": {
       "model_id": "a43cf5e7dcdf40e6a73b2fc0350e661a",
       "version_major": 2,
       "version_minor": 0
      },
      "text/plain": [
       "configs:   0%|          | 0/1000 [00:00<?, ?it/s]"
      ]
     },
     "metadata": {},
     "output_type": "display_data"
    }
   ],
   "source": [
    "create_dataset(\"full\",configs=1000,initial_per_config=100,n_timesteps=50)"
   ]
  },
  {
   "cell_type": "code",
   "execution_count": 14,
   "metadata": {},
   "outputs": [],
   "source": [
    "x_basic,y_basic, info_basic = load_dataset('basic')"
   ]
  },
  {
   "cell_type": "code",
   "execution_count": 23,
   "metadata": {},
   "outputs": [
    {
     "data": {
      "text/html": [
       "<pre style=\"white-space:pre;overflow-x:auto;line-height:normal;font-family:Menlo,'DejaVu Sans Mono',consolas,'Courier New',monospace\"><span style=\"font-weight: bold\">Model: \"sequential_5\"</span>\n",
       "</pre>\n"
      ],
      "text/plain": [
       "\u001b[1mModel: \"sequential_5\"\u001b[0m\n"
      ]
     },
     "metadata": {},
     "output_type": "display_data"
    },
    {
     "data": {
      "text/html": [
       "<pre style=\"white-space:pre;overflow-x:auto;line-height:normal;font-family:Menlo,'DejaVu Sans Mono',consolas,'Courier New',monospace\">┏━━━━━━━━━━━━━━━━━━━━━━━━━━━━━━━━━┳━━━━━━━━━━━━━━━━━━━━━━━━━━━┳━━━━━━━━━━━━┓\n",
       "┃<span style=\"font-weight: bold\"> Layer (type)                    </span>┃<span style=\"font-weight: bold\"> Output Shape              </span>┃<span style=\"font-weight: bold\">    Param # </span>┃\n",
       "┡━━━━━━━━━━━━━━━━━━━━━━━━━━━━━━━━━╇━━━━━━━━━━━━━━━━━━━━━━━━━━━╇━━━━━━━━━━━━┩\n",
       "│ dense_15 (<span style=\"color: #0087ff; text-decoration-color: #0087ff\">Dense</span>)                │ (<span style=\"color: #00d7ff; text-decoration-color: #00d7ff\">None</span>, <span style=\"color: #00af00; text-decoration-color: #00af00\">128</span>)               │        <span style=\"color: #00af00; text-decoration-color: #00af00\">640</span> │\n",
       "├─────────────────────────────────┼───────────────────────────┼────────────┤\n",
       "│ dense_16 (<span style=\"color: #0087ff; text-decoration-color: #0087ff\">Dense</span>)                │ (<span style=\"color: #00d7ff; text-decoration-color: #00d7ff\">None</span>, <span style=\"color: #00af00; text-decoration-color: #00af00\">128</span>)               │     <span style=\"color: #00af00; text-decoration-color: #00af00\">16,512</span> │\n",
       "├─────────────────────────────────┼───────────────────────────┼────────────┤\n",
       "│ dense_17 (<span style=\"color: #0087ff; text-decoration-color: #0087ff\">Dense</span>)                │ (<span style=\"color: #00d7ff; text-decoration-color: #00d7ff\">None</span>, <span style=\"color: #00af00; text-decoration-color: #00af00\">3</span>)                 │        <span style=\"color: #00af00; text-decoration-color: #00af00\">387</span> │\n",
       "└─────────────────────────────────┴───────────────────────────┴────────────┘\n",
       "</pre>\n"
      ],
      "text/plain": [
       "┏━━━━━━━━━━━━━━━━━━━━━━━━━━━━━━━━━┳━━━━━━━━━━━━━━━━━━━━━━━━━━━┳━━━━━━━━━━━━┓\n",
       "┃\u001b[1m \u001b[0m\u001b[1mLayer (type)                   \u001b[0m\u001b[1m \u001b[0m┃\u001b[1m \u001b[0m\u001b[1mOutput Shape             \u001b[0m\u001b[1m \u001b[0m┃\u001b[1m \u001b[0m\u001b[1m   Param #\u001b[0m\u001b[1m \u001b[0m┃\n",
       "┡━━━━━━━━━━━━━━━━━━━━━━━━━━━━━━━━━╇━━━━━━━━━━━━━━━━━━━━━━━━━━━╇━━━━━━━━━━━━┩\n",
       "│ dense_15 (\u001b[38;5;33mDense\u001b[0m)                │ (\u001b[38;5;45mNone\u001b[0m, \u001b[38;5;34m128\u001b[0m)               │        \u001b[38;5;34m640\u001b[0m │\n",
       "├─────────────────────────────────┼───────────────────────────┼────────────┤\n",
       "│ dense_16 (\u001b[38;5;33mDense\u001b[0m)                │ (\u001b[38;5;45mNone\u001b[0m, \u001b[38;5;34m128\u001b[0m)               │     \u001b[38;5;34m16,512\u001b[0m │\n",
       "├─────────────────────────────────┼───────────────────────────┼────────────┤\n",
       "│ dense_17 (\u001b[38;5;33mDense\u001b[0m)                │ (\u001b[38;5;45mNone\u001b[0m, \u001b[38;5;34m3\u001b[0m)                 │        \u001b[38;5;34m387\u001b[0m │\n",
       "└─────────────────────────────────┴───────────────────────────┴────────────┘\n"
      ]
     },
     "metadata": {},
     "output_type": "display_data"
    },
    {
     "data": {
      "text/html": [
       "<pre style=\"white-space:pre;overflow-x:auto;line-height:normal;font-family:Menlo,'DejaVu Sans Mono',consolas,'Courier New',monospace\"><span style=\"font-weight: bold\"> Total params: </span><span style=\"color: #00af00; text-decoration-color: #00af00\">17,539</span> (68.51 KB)\n",
       "</pre>\n"
      ],
      "text/plain": [
       "\u001b[1m Total params: \u001b[0m\u001b[38;5;34m17,539\u001b[0m (68.51 KB)\n"
      ]
     },
     "metadata": {},
     "output_type": "display_data"
    },
    {
     "data": {
      "text/html": [
       "<pre style=\"white-space:pre;overflow-x:auto;line-height:normal;font-family:Menlo,'DejaVu Sans Mono',consolas,'Courier New',monospace\"><span style=\"font-weight: bold\"> Trainable params: </span><span style=\"color: #00af00; text-decoration-color: #00af00\">17,539</span> (68.51 KB)\n",
       "</pre>\n"
      ],
      "text/plain": [
       "\u001b[1m Trainable params: \u001b[0m\u001b[38;5;34m17,539\u001b[0m (68.51 KB)\n"
      ]
     },
     "metadata": {},
     "output_type": "display_data"
    },
    {
     "data": {
      "text/html": [
       "<pre style=\"white-space:pre;overflow-x:auto;line-height:normal;font-family:Menlo,'DejaVu Sans Mono',consolas,'Courier New',monospace\"><span style=\"font-weight: bold\"> Non-trainable params: </span><span style=\"color: #00af00; text-decoration-color: #00af00\">0</span> (0.00 B)\n",
       "</pre>\n"
      ],
      "text/plain": [
       "\u001b[1m Non-trainable params: \u001b[0m\u001b[38;5;34m0\u001b[0m (0.00 B)\n"
      ]
     },
     "metadata": {},
     "output_type": "display_data"
    }
   ],
   "source": [
    "# Model parameters\n",
    "input_shape = (x_basic.shape[1], )\n",
    "\n",
    "basic_model = keras.Sequential(\n",
    "    [\n",
    "        keras.layers.Input(shape=input_shape),\n",
    "        keras.layers.Dense(128, activation=\"relu\"),\n",
    "        keras.layers.Dense(128, activation=\"relu\"),\n",
    "        keras.layers.Dense(3,activation=\"relu\")\n",
    "    ]\n",
    ")\n",
    "basic_model.compile(\n",
    "    loss=keras.losses.MeanSquaredError(),\n",
    "    optimizer=keras.optimizers.Adam(learning_rate=3e-4),\n",
    ")\n",
    "basic_model.summary()\n"
   ]
  },
  {
   "cell_type": "code",
   "execution_count": 24,
   "metadata": {},
   "outputs": [
    {
     "name": "stdout",
     "output_type": "stream",
     "text": [
      "Epoch 1/20\n",
      "\u001b[1m208/208\u001b[0m \u001b[32m━━━━━━━━━━━━━━━━━━━━\u001b[0m\u001b[37m\u001b[0m \u001b[1m4s\u001b[0m 20ms/step - loss: 0.0582 - val_loss: 2.8772e-04\n",
      "Epoch 2/20\n",
      "\u001b[1m208/208\u001b[0m \u001b[32m━━━━━━━━━━━━━━━━━━━━\u001b[0m\u001b[37m\u001b[0m \u001b[1m4s\u001b[0m 18ms/step - loss: 2.0725e-04 - val_loss: 1.0037e-04\n",
      "Epoch 3/20\n",
      "\u001b[1m208/208\u001b[0m \u001b[32m━━━━━━━━━━━━━━━━━━━━\u001b[0m\u001b[37m\u001b[0m \u001b[1m4s\u001b[0m 18ms/step - loss: 8.7650e-05 - val_loss: 6.3560e-05\n",
      "Epoch 4/20\n",
      "\u001b[1m208/208\u001b[0m \u001b[32m━━━━━━━━━━━━━━━━━━━━\u001b[0m\u001b[37m\u001b[0m \u001b[1m4s\u001b[0m 17ms/step - loss: 5.5056e-05 - val_loss: 2.8159e-05\n",
      "Epoch 5/20\n",
      "\u001b[1m208/208\u001b[0m \u001b[32m━━━━━━━━━━━━━━━━━━━━\u001b[0m\u001b[37m\u001b[0m \u001b[1m4s\u001b[0m 17ms/step - loss: 2.2741e-05 - val_loss: 1.4144e-05\n",
      "Epoch 6/20\n",
      "\u001b[1m208/208\u001b[0m \u001b[32m━━━━━━━━━━━━━━━━━━━━\u001b[0m\u001b[37m\u001b[0m \u001b[1m4s\u001b[0m 17ms/step - loss: 1.2545e-05 - val_loss: 9.3817e-06\n",
      "Epoch 7/20\n",
      "\u001b[1m208/208\u001b[0m \u001b[32m━━━━━━━━━━━━━━━━━━━━\u001b[0m\u001b[37m\u001b[0m \u001b[1m3s\u001b[0m 16ms/step - loss: 8.4276e-06 - val_loss: 6.7698e-06\n",
      "Epoch 8/20\n",
      "\u001b[1m208/208\u001b[0m \u001b[32m━━━━━━━━━━━━━━━━━━━━\u001b[0m\u001b[37m\u001b[0m \u001b[1m4s\u001b[0m 17ms/step - loss: 6.1316e-06 - val_loss: 4.9528e-06\n",
      "Epoch 9/20\n",
      "\u001b[1m208/208\u001b[0m \u001b[32m━━━━━━━━━━━━━━━━━━━━\u001b[0m\u001b[37m\u001b[0m \u001b[1m3s\u001b[0m 16ms/step - loss: 4.5187e-06 - val_loss: 3.7558e-06\n",
      "Epoch 10/20\n",
      "\u001b[1m208/208\u001b[0m \u001b[32m━━━━━━━━━━━━━━━━━━━━\u001b[0m\u001b[37m\u001b[0m \u001b[1m4s\u001b[0m 16ms/step - loss: 3.4468e-06 - val_loss: 2.9938e-06\n",
      "Epoch 11/20\n",
      "\u001b[1m208/208\u001b[0m \u001b[32m━━━━━━━━━━━━━━━━━━━━\u001b[0m\u001b[37m\u001b[0m \u001b[1m4s\u001b[0m 16ms/step - loss: 2.7916e-06 - val_loss: 2.4334e-06\n",
      "Epoch 12/20\n",
      "\u001b[1m208/208\u001b[0m \u001b[32m━━━━━━━━━━━━━━━━━━━━\u001b[0m\u001b[37m\u001b[0m \u001b[1m3s\u001b[0m 16ms/step - loss: 2.2855e-06 - val_loss: 2.0172e-06\n",
      "Epoch 13/20\n",
      "\u001b[1m208/208\u001b[0m \u001b[32m━━━━━━━━━━━━━━━━━━━━\u001b[0m\u001b[37m\u001b[0m \u001b[1m3s\u001b[0m 16ms/step - loss: 1.9080e-06 - val_loss: 1.7263e-06\n",
      "Epoch 14/20\n",
      "\u001b[1m208/208\u001b[0m \u001b[32m━━━━━━━━━━━━━━━━━━━━\u001b[0m\u001b[37m\u001b[0m \u001b[1m4s\u001b[0m 16ms/step - loss: 1.6100e-06 - val_loss: 1.4376e-06\n",
      "Epoch 15/20\n",
      "\u001b[1m208/208\u001b[0m \u001b[32m━━━━━━━━━━━━━━━━━━━━\u001b[0m\u001b[37m\u001b[0m \u001b[1m3s\u001b[0m 16ms/step - loss: 1.3692e-06 - val_loss: 1.2378e-06\n",
      "Epoch 16/20\n",
      "\u001b[1m208/208\u001b[0m \u001b[32m━━━━━━━━━━━━━━━━━━━━\u001b[0m\u001b[37m\u001b[0m \u001b[1m4s\u001b[0m 16ms/step - loss: 1.1910e-06 - val_loss: 1.1018e-06\n",
      "Epoch 17/20\n",
      "\u001b[1m208/208\u001b[0m \u001b[32m━━━━━━━━━━━━━━━━━━━━\u001b[0m\u001b[37m\u001b[0m \u001b[1m4s\u001b[0m 16ms/step - loss: 1.0533e-06 - val_loss: 9.7869e-07\n",
      "Epoch 18/20\n",
      "\u001b[1m208/208\u001b[0m \u001b[32m━━━━━━━━━━━━━━━━━━━━\u001b[0m\u001b[37m\u001b[0m \u001b[1m4s\u001b[0m 16ms/step - loss: 9.7379e-07 - val_loss: 9.0024e-07\n",
      "Epoch 19/20\n",
      "\u001b[1m208/208\u001b[0m \u001b[32m━━━━━━━━━━━━━━━━━━━━\u001b[0m\u001b[37m\u001b[0m \u001b[1m3s\u001b[0m 16ms/step - loss: 8.8813e-07 - val_loss: 8.2460e-07\n",
      "Epoch 20/20\n",
      "\u001b[1m208/208\u001b[0m \u001b[32m━━━━━━━━━━━━━━━━━━━━\u001b[0m\u001b[37m\u001b[0m \u001b[1m3s\u001b[0m 16ms/step - loss: 8.1847e-07 - val_loss: 7.7720e-07\n"
     ]
    },
    {
     "data": {
      "text/plain": [
       "<keras_core.src.callbacks.history.History at 0x236be9b0dc0>"
      ]
     },
     "execution_count": 24,
     "metadata": {},
     "output_type": "execute_result"
    }
   ],
   "source": [
    "basic_model.fit(\n",
    "    x_basic,\n",
    "    y_basic,\n",
    "    batch_size=2**12,\n",
    "    epochs=20,\n",
    "    validation_split=0.15,\n",
    ")\n"
   ]
  },
  {
   "cell_type": "code",
   "execution_count": 6,
   "metadata": {},
   "outputs": [
    {
     "ename": "TypeError",
     "evalue": "Error when deserializing class 'Dense' using config={'name': 'dense_36', 'trainable': True, 'dtype': 'float32', 'units': 128, 'activation': 'relu', 'use_bias': True, 'kernel_initializer': {'module': 'keras_core.src.initializers.random_initializers', 'class_name': 'GlorotUniform', 'config': {'seed': None}, 'registered_name': 'GlorotUniform'}, 'bias_initializer': {'module': 'keras_core.src.initializers.constant_initializers', 'class_name': 'Zeros', 'config': {}, 'registered_name': 'Zeros'}, 'kernel_regularizer': None, 'bias_regularizer': None, 'kernel_constraint': None, 'bias_constraint': None}.\n\nException encountered: module 'keras_core.src.activations' has no attribute 'get'",
     "output_type": "error",
     "traceback": [
      "\u001b[1;31m---------------------------------------------------------------------------\u001b[0m",
      "\u001b[1;31mAttributeError\u001b[0m                            Traceback (most recent call last)",
      "File \u001b[1;32mc:\\Users\\David\\AppData\\Local\\Programs\\Python\\Python311\\Lib\\site-packages\\keras_core\\src\\ops\\operation.py:193\u001b[0m, in \u001b[0;36mOperation.from_config\u001b[1;34m(cls, config)\u001b[0m\n\u001b[0;32m    192\u001b[0m \u001b[39mtry\u001b[39;00m:\n\u001b[1;32m--> 193\u001b[0m     \u001b[39mreturn\u001b[39;00m \u001b[39mcls\u001b[39;49m(\u001b[39m*\u001b[39;49m\u001b[39m*\u001b[39;49mconfig)\n\u001b[0;32m    194\u001b[0m \u001b[39mexcept\u001b[39;00m \u001b[39mException\u001b[39;00m \u001b[39mas\u001b[39;00m e:\n",
      "File \u001b[1;32mc:\\Users\\David\\AppData\\Local\\Programs\\Python\\Python311\\Lib\\site-packages\\keras_core\\src\\layers\\core\\dense.py:75\u001b[0m, in \u001b[0;36mDense.__init__\u001b[1;34m(self, units, activation, use_bias, kernel_initializer, bias_initializer, kernel_regularizer, bias_regularizer, activity_regularizer, kernel_constraint, bias_constraint, **kwargs)\u001b[0m\n\u001b[0;32m     74\u001b[0m \u001b[39mself\u001b[39m\u001b[39m.\u001b[39munits \u001b[39m=\u001b[39m units\n\u001b[1;32m---> 75\u001b[0m \u001b[39mself\u001b[39m\u001b[39m.\u001b[39mactivation \u001b[39m=\u001b[39m activations\u001b[39m.\u001b[39;49mget(activation)\n\u001b[0;32m     76\u001b[0m \u001b[39mself\u001b[39m\u001b[39m.\u001b[39muse_bias \u001b[39m=\u001b[39m use_bias\n",
      "\u001b[1;31mAttributeError\u001b[0m: module 'keras_core.src.activations' has no attribute 'get'",
      "\nDuring handling of the above exception, another exception occurred:\n",
      "\u001b[1;31mTypeError\u001b[0m                                 Traceback (most recent call last)",
      "Cell \u001b[1;32mIn[6], line 1\u001b[0m\n\u001b[1;32m----> 1\u001b[0m basic_model \u001b[39m=\u001b[39m keras\u001b[39m.\u001b[39;49mmodels\u001b[39m.\u001b[39;49mload_model(\u001b[39m'\u001b[39;49m\u001b[39mtrained_models/basic.keras\u001b[39;49m\u001b[39m'\u001b[39;49m)\n",
      "File \u001b[1;32mc:\\Users\\David\\AppData\\Local\\Programs\\Python\\Python311\\Lib\\site-packages\\keras_core\\src\\saving\\saving_api.py:177\u001b[0m, in \u001b[0;36mload_model\u001b[1;34m(filepath, custom_objects, compile, safe_mode)\u001b[0m\n\u001b[0;32m    174\u001b[0m         is_keras_zip \u001b[39m=\u001b[39m \u001b[39mTrue\u001b[39;00m\n\u001b[0;32m    176\u001b[0m \u001b[39mif\u001b[39;00m is_keras_zip:\n\u001b[1;32m--> 177\u001b[0m     \u001b[39mreturn\u001b[39;00m saving_lib\u001b[39m.\u001b[39;49mload_model(\n\u001b[0;32m    178\u001b[0m         filepath,\n\u001b[0;32m    179\u001b[0m         custom_objects\u001b[39m=\u001b[39;49mcustom_objects,\n\u001b[0;32m    180\u001b[0m         \u001b[39mcompile\u001b[39;49m\u001b[39m=\u001b[39;49m\u001b[39mcompile\u001b[39;49m,\n\u001b[0;32m    181\u001b[0m         safe_mode\u001b[39m=\u001b[39;49msafe_mode,\n\u001b[0;32m    182\u001b[0m     )\n\u001b[0;32m    183\u001b[0m \u001b[39mif\u001b[39;00m \u001b[39mstr\u001b[39m(filepath)\u001b[39m.\u001b[39mendswith((\u001b[39m\"\u001b[39m\u001b[39m.h5\u001b[39m\u001b[39m\"\u001b[39m, \u001b[39m\"\u001b[39m\u001b[39m.hdf5\u001b[39m\u001b[39m\"\u001b[39m)):\n\u001b[0;32m    184\u001b[0m     \u001b[39mreturn\u001b[39;00m legacy_h5_format\u001b[39m.\u001b[39mload_model_from_hdf5(filepath)\n",
      "File \u001b[1;32mc:\\Users\\David\\AppData\\Local\\Programs\\Python\\Python311\\Lib\\site-packages\\keras_core\\src\\saving\\saving_lib.py:153\u001b[0m, in \u001b[0;36mload_model\u001b[1;34m(filepath, custom_objects, compile, safe_mode)\u001b[0m\n\u001b[0;32m    151\u001b[0m \u001b[39m# Construct the model from the configuration file in the archive.\u001b[39;00m\n\u001b[0;32m    152\u001b[0m \u001b[39mwith\u001b[39;00m ObjectSharingScope():\n\u001b[1;32m--> 153\u001b[0m     model \u001b[39m=\u001b[39m deserialize_keras_object(\n\u001b[0;32m    154\u001b[0m         config_dict, custom_objects, safe_mode\u001b[39m=\u001b[39;49msafe_mode\n\u001b[0;32m    155\u001b[0m     )\n\u001b[0;32m    157\u001b[0m all_filenames \u001b[39m=\u001b[39m zf\u001b[39m.\u001b[39mnamelist()\n\u001b[0;32m    158\u001b[0m \u001b[39mif\u001b[39;00m _VARS_FNAME \u001b[39m+\u001b[39m \u001b[39m\"\u001b[39m\u001b[39m.h5\u001b[39m\u001b[39m\"\u001b[39m \u001b[39min\u001b[39;00m all_filenames:\n",
      "File \u001b[1;32mc:\\Users\\David\\AppData\\Local\\Programs\\Python\\Python311\\Lib\\site-packages\\keras_core\\src\\saving\\serialization_lib.py:679\u001b[0m, in \u001b[0;36mdeserialize_keras_object\u001b[1;34m(config, custom_objects, safe_mode, **kwargs)\u001b[0m\n\u001b[0;32m    677\u001b[0m safe_mode_scope \u001b[39m=\u001b[39m SafeModeScope(safe_mode)\n\u001b[0;32m    678\u001b[0m \u001b[39mwith\u001b[39;00m custom_obj_scope, safe_mode_scope:\n\u001b[1;32m--> 679\u001b[0m     instance \u001b[39m=\u001b[39m \u001b[39mcls\u001b[39;49m\u001b[39m.\u001b[39;49mfrom_config(inner_config)\n\u001b[0;32m    680\u001b[0m     build_config \u001b[39m=\u001b[39m config\u001b[39m.\u001b[39mget(\u001b[39m\"\u001b[39m\u001b[39mbuild_config\u001b[39m\u001b[39m\"\u001b[39m, \u001b[39mNone\u001b[39;00m)\n\u001b[0;32m    681\u001b[0m     \u001b[39mif\u001b[39;00m build_config \u001b[39mand\u001b[39;00m \u001b[39mnot\u001b[39;00m instance\u001b[39m.\u001b[39mbuilt:\n",
      "File \u001b[1;32mc:\\Users\\David\\AppData\\Local\\Programs\\Python\\Python311\\Lib\\site-packages\\keras_core\\src\\models\\sequential.py:316\u001b[0m, in \u001b[0;36mSequential.from_config\u001b[1;34m(cls, config, custom_objects)\u001b[0m\n\u001b[0;32m    311\u001b[0m         layer \u001b[39m=\u001b[39m saving_utils\u001b[39m.\u001b[39mmodel_from_config(\n\u001b[0;32m    312\u001b[0m             layer_config,\n\u001b[0;32m    313\u001b[0m             custom_objects\u001b[39m=\u001b[39mcustom_objects,\n\u001b[0;32m    314\u001b[0m         )\n\u001b[0;32m    315\u001b[0m     \u001b[39melse\u001b[39;00m:\n\u001b[1;32m--> 316\u001b[0m         layer \u001b[39m=\u001b[39m serialization_lib\u001b[39m.\u001b[39;49mdeserialize_keras_object(\n\u001b[0;32m    317\u001b[0m             layer_config,\n\u001b[0;32m    318\u001b[0m             custom_objects\u001b[39m=\u001b[39;49mcustom_objects,\n\u001b[0;32m    319\u001b[0m         )\n\u001b[0;32m    320\u001b[0m     model\u001b[39m.\u001b[39madd(layer)\n\u001b[0;32m    321\u001b[0m \u001b[39mif\u001b[39;00m (\n\u001b[0;32m    322\u001b[0m     \u001b[39mnot\u001b[39;00m model\u001b[39m.\u001b[39m_functional\n\u001b[0;32m    323\u001b[0m     \u001b[39mand\u001b[39;00m build_input_shape\n\u001b[0;32m    324\u001b[0m     \u001b[39mand\u001b[39;00m \u001b[39misinstance\u001b[39m(build_input_shape, (\u001b[39mtuple\u001b[39m, \u001b[39mlist\u001b[39m))\n\u001b[0;32m    325\u001b[0m ):\n",
      "File \u001b[1;32mc:\\Users\\David\\AppData\\Local\\Programs\\Python\\Python311\\Lib\\site-packages\\keras_core\\src\\saving\\serialization_lib.py:679\u001b[0m, in \u001b[0;36mdeserialize_keras_object\u001b[1;34m(config, custom_objects, safe_mode, **kwargs)\u001b[0m\n\u001b[0;32m    677\u001b[0m safe_mode_scope \u001b[39m=\u001b[39m SafeModeScope(safe_mode)\n\u001b[0;32m    678\u001b[0m \u001b[39mwith\u001b[39;00m custom_obj_scope, safe_mode_scope:\n\u001b[1;32m--> 679\u001b[0m     instance \u001b[39m=\u001b[39m \u001b[39mcls\u001b[39;49m\u001b[39m.\u001b[39;49mfrom_config(inner_config)\n\u001b[0;32m    680\u001b[0m     build_config \u001b[39m=\u001b[39m config\u001b[39m.\u001b[39mget(\u001b[39m\"\u001b[39m\u001b[39mbuild_config\u001b[39m\u001b[39m\"\u001b[39m, \u001b[39mNone\u001b[39;00m)\n\u001b[0;32m    681\u001b[0m     \u001b[39mif\u001b[39;00m build_config \u001b[39mand\u001b[39;00m \u001b[39mnot\u001b[39;00m instance\u001b[39m.\u001b[39mbuilt:\n",
      "File \u001b[1;32mc:\\Users\\David\\AppData\\Local\\Programs\\Python\\Python311\\Lib\\site-packages\\keras_core\\src\\ops\\operation.py:195\u001b[0m, in \u001b[0;36mOperation.from_config\u001b[1;34m(cls, config)\u001b[0m\n\u001b[0;32m    193\u001b[0m     \u001b[39mreturn\u001b[39;00m \u001b[39mcls\u001b[39m(\u001b[39m*\u001b[39m\u001b[39m*\u001b[39mconfig)\n\u001b[0;32m    194\u001b[0m \u001b[39mexcept\u001b[39;00m \u001b[39mException\u001b[39;00m \u001b[39mas\u001b[39;00m e:\n\u001b[1;32m--> 195\u001b[0m     \u001b[39mraise\u001b[39;00m \u001b[39mTypeError\u001b[39;00m(\n\u001b[0;32m    196\u001b[0m         \u001b[39mf\u001b[39m\u001b[39m\"\u001b[39m\u001b[39mError when deserializing class \u001b[39m\u001b[39m'\u001b[39m\u001b[39m{\u001b[39;00m\u001b[39mcls\u001b[39m\u001b[39m.\u001b[39m\u001b[39m__name__\u001b[39m\u001b[39m}\u001b[39;00m\u001b[39m'\u001b[39m\u001b[39m using \u001b[39m\u001b[39m\"\u001b[39m\n\u001b[0;32m    197\u001b[0m         \u001b[39mf\u001b[39m\u001b[39m\"\u001b[39m\u001b[39mconfig=\u001b[39m\u001b[39m{\u001b[39;00mconfig\u001b[39m}\u001b[39;00m\u001b[39m.\u001b[39m\u001b[39m\\n\u001b[39;00m\u001b[39m\\n\u001b[39;00m\u001b[39mException encountered: \u001b[39m\u001b[39m{\u001b[39;00me\u001b[39m}\u001b[39;00m\u001b[39m\"\u001b[39m\n\u001b[0;32m    198\u001b[0m     )\n",
      "\u001b[1;31mTypeError\u001b[0m: Error when deserializing class 'Dense' using config={'name': 'dense_36', 'trainable': True, 'dtype': 'float32', 'units': 128, 'activation': 'relu', 'use_bias': True, 'kernel_initializer': {'module': 'keras_core.src.initializers.random_initializers', 'class_name': 'GlorotUniform', 'config': {'seed': None}, 'registered_name': 'GlorotUniform'}, 'bias_initializer': {'module': 'keras_core.src.initializers.constant_initializers', 'class_name': 'Zeros', 'config': {}, 'registered_name': 'Zeros'}, 'kernel_regularizer': None, 'bias_regularizer': None, 'kernel_constraint': None, 'bias_constraint': None}.\n\nException encountered: module 'keras_core.src.activations' has no attribute 'get'"
     ]
    }
   ],
   "source": [
    "basic_model = keras.models.load_model('trained_models/basic.keras')"
   ]
  },
  {
   "cell_type": "markdown",
   "metadata": {},
   "source": [
    "# TODO"
   ]
  },
  {
   "cell_type": "markdown",
   "metadata": {},
   "source": [
    "residuum"
   ]
  },
  {
   "cell_type": "code",
   "execution_count": 16,
   "metadata": {},
   "outputs": [
    {
     "name": "stdout",
     "output_type": "stream",
     "text": [
      "\u001b[1m2/2\u001b[0m \u001b[32m━━━━━━━━━━━━━━━━━━━━\u001b[0m\u001b[37m\u001b[0m \u001b[1m0s\u001b[0m 0s/step\n",
      "(50, 3)\n"
     ]
    },
    {
     "data": {
      "image/png": "[encoded data removed]",
      "text/plain": [
       "<Figure size 640x480 with 1 Axes>"
      ]
     },
     "metadata": {},
     "output_type": "display_data"
    }
   ],
   "source": [
    "np.random.seed(1)\n",
    "analytical_model = SingleOccupationSingleIsotope(2,1)\n",
    "c_init = analytical_model.initial_values()\n",
    "ts, cs = analytical_model.solve(c_init,50)\n",
    "inputs = np.repeat([c_init],len(ts),axis=0)\n",
    "inputs = np.append(ts.reshape(-1,1),inputs,axis=1)\n",
    "predictions = basic_model.predict(inputs)\n",
    "delta = np.abs(cs-predictions.T)\n",
    "max_delta = np.max(delta)\n",
    "colors = []\n",
    "for c in cs:\n",
    "    p = plt.plot(ts,c,label= \"Analytical\", linestyle = \"--\", linewidth = 2)\n",
    "    colors.append(p[0].get_color())\n",
    "print(predictions.shape)\n",
    "for color, prediction in zip(colors,predictions.T):\n",
    "    plt.plot(ts,prediction, label=\"NN\", color=color)\n",
    "plt.ylabel(\"Concentration\")\n",
    "plt.xlabel(\"Time\")\n",
    "plt.title(f\"Small Model, Fixed Transition Rates\\nmax error: {max_delta:.2e}\")\n",
    "plt.legend()\n",
    "plt.grid()"
   ]
  },
  {
   "cell_type": "code",
   "execution_count": 27,
   "metadata": {},
   "outputs": [],
   "source": [
    "x_full,y_full, info_full = load_dataset('full')"
   ]
  },
  {
   "cell_type": "code",
   "execution_count": 57,
   "metadata": {},
   "outputs": [
    {
     "data": {
      "text/html": [
       "<pre style=\"white-space:pre;overflow-x:auto;line-height:normal;font-family:Menlo,'DejaVu Sans Mono',consolas,'Courier New',monospace\"><span style=\"font-weight: bold\">Model: \"sequential_12\"</span>\n",
       "</pre>\n"
      ],
      "text/plain": [
       "\u001b[1mModel: \"sequential_12\"\u001b[0m\n"
      ]
     },
     "metadata": {},
     "output_type": "display_data"
    },
    {
     "data": {
      "text/html": [
       "<pre style=\"white-space:pre;overflow-x:auto;line-height:normal;font-family:Menlo,'DejaVu Sans Mono',consolas,'Courier New',monospace\">┏━━━━━━━━━━━━━━━━━━━━━━━━━━━━━━━━━┳━━━━━━━━━━━━━━━━━━━━━━━━━━━┳━━━━━━━━━━━━┓\n",
       "┃<span style=\"font-weight: bold\"> Layer (type)                    </span>┃<span style=\"font-weight: bold\"> Output Shape              </span>┃<span style=\"font-weight: bold\">    Param # </span>┃\n",
       "┡━━━━━━━━━━━━━━━━━━━━━━━━━━━━━━━━━╇━━━━━━━━━━━━━━━━━━━━━━━━━━━╇━━━━━━━━━━━━┩\n",
       "│ dense_36 (<span style=\"color: #0087ff; text-decoration-color: #0087ff\">Dense</span>)                │ (<span style=\"color: #00d7ff; text-decoration-color: #00d7ff\">None</span>, <span style=\"color: #00af00; text-decoration-color: #00af00\">64</span>)                │        <span style=\"color: #00af00; text-decoration-color: #00af00\">960</span> │\n",
       "├─────────────────────────────────┼───────────────────────────┼────────────┤\n",
       "│ dense_37 (<span style=\"color: #0087ff; text-decoration-color: #0087ff\">Dense</span>)                │ (<span style=\"color: #00d7ff; text-decoration-color: #00d7ff\">None</span>, <span style=\"color: #00af00; text-decoration-color: #00af00\">128</span>)               │      <span style=\"color: #00af00; text-decoration-color: #00af00\">8,320</span> │\n",
       "├─────────────────────────────────┼───────────────────────────┼────────────┤\n",
       "│ dense_38 (<span style=\"color: #0087ff; text-decoration-color: #0087ff\">Dense</span>)                │ (<span style=\"color: #00d7ff; text-decoration-color: #00d7ff\">None</span>, <span style=\"color: #00af00; text-decoration-color: #00af00\">256</span>)               │     <span style=\"color: #00af00; text-decoration-color: #00af00\">33,024</span> │\n",
       "├─────────────────────────────────┼───────────────────────────┼────────────┤\n",
       "│ dense_39 (<span style=\"color: #0087ff; text-decoration-color: #0087ff\">Dense</span>)                │ (<span style=\"color: #00d7ff; text-decoration-color: #00d7ff\">None</span>, <span style=\"color: #00af00; text-decoration-color: #00af00\">3</span>)                 │        <span style=\"color: #00af00; text-decoration-color: #00af00\">771</span> │\n",
       "└─────────────────────────────────┴───────────────────────────┴────────────┘\n",
       "</pre>\n"
      ],
      "text/plain": [
       "┏━━━━━━━━━━━━━━━━━━━━━━━━━━━━━━━━━┳━━━━━━━━━━━━━━━━━━━━━━━━━━━┳━━━━━━━━━━━━┓\n",
       "┃\u001b[1m \u001b[0m\u001b[1mLayer (type)                   \u001b[0m\u001b[1m \u001b[0m┃\u001b[1m \u001b[0m\u001b[1mOutput Shape             \u001b[0m\u001b[1m \u001b[0m┃\u001b[1m \u001b[0m\u001b[1m   Param #\u001b[0m\u001b[1m \u001b[0m┃\n",
       "┡━━━━━━━━━━━━━━━━━━━━━━━━━━━━━━━━━╇━━━━━━━━━━━━━━━━━━━━━━━━━━━╇━━━━━━━━━━━━┩\n",
       "│ dense_36 (\u001b[38;5;33mDense\u001b[0m)                │ (\u001b[38;5;45mNone\u001b[0m, \u001b[38;5;34m64\u001b[0m)                │        \u001b[38;5;34m960\u001b[0m │\n",
       "├─────────────────────────────────┼───────────────────────────┼────────────┤\n",
       "│ dense_37 (\u001b[38;5;33mDense\u001b[0m)                │ (\u001b[38;5;45mNone\u001b[0m, \u001b[38;5;34m128\u001b[0m)               │      \u001b[38;5;34m8,320\u001b[0m │\n",
       "├─────────────────────────────────┼───────────────────────────┼────────────┤\n",
       "│ dense_38 (\u001b[38;5;33mDense\u001b[0m)                │ (\u001b[38;5;45mNone\u001b[0m, \u001b[38;5;34m256\u001b[0m)               │     \u001b[38;5;34m33,024\u001b[0m │\n",
       "├─────────────────────────────────┼───────────────────────────┼────────────┤\n",
       "│ dense_39 (\u001b[38;5;33mDense\u001b[0m)                │ (\u001b[38;5;45mNone\u001b[0m, \u001b[38;5;34m3\u001b[0m)                 │        \u001b[38;5;34m771\u001b[0m │\n",
       "└─────────────────────────────────┴───────────────────────────┴────────────┘\n"
      ]
     },
     "metadata": {},
     "output_type": "display_data"
    },
    {
     "data": {
      "text/html": [
       "<pre style=\"white-space:pre;overflow-x:auto;line-height:normal;font-family:Menlo,'DejaVu Sans Mono',consolas,'Courier New',monospace\"><span style=\"font-weight: bold\"> Total params: </span><span style=\"color: #00af00; text-decoration-color: #00af00\">43,075</span> (168.26 KB)\n",
       "</pre>\n"
      ],
      "text/plain": [
       "\u001b[1m Total params: \u001b[0m\u001b[38;5;34m43,075\u001b[0m (168.26 KB)\n"
      ]
     },
     "metadata": {},
     "output_type": "display_data"
    },
    {
     "data": {
      "text/html": [
       "<pre style=\"white-space:pre;overflow-x:auto;line-height:normal;font-family:Menlo,'DejaVu Sans Mono',consolas,'Courier New',monospace\"><span style=\"font-weight: bold\"> Trainable params: </span><span style=\"color: #00af00; text-decoration-color: #00af00\">43,075</span> (168.26 KB)\n",
       "</pre>\n"
      ],
      "text/plain": [
       "\u001b[1m Trainable params: \u001b[0m\u001b[38;5;34m43,075\u001b[0m (168.26 KB)\n"
      ]
     },
     "metadata": {},
     "output_type": "display_data"
    },
    {
     "data": {
      "text/html": [
       "<pre style=\"white-space:pre;overflow-x:auto;line-height:normal;font-family:Menlo,'DejaVu Sans Mono',consolas,'Courier New',monospace\"><span style=\"font-weight: bold\"> Non-trainable params: </span><span style=\"color: #00af00; text-decoration-color: #00af00\">0</span> (0.00 B)\n",
       "</pre>\n"
      ],
      "text/plain": [
       "\u001b[1m Non-trainable params: \u001b[0m\u001b[38;5;34m0\u001b[0m (0.00 B)\n"
      ]
     },
     "metadata": {},
     "output_type": "display_data"
    }
   ],
   "source": [
    "# Model parameters\n",
    "input_shape = (x_full.shape[1], )\n",
    "\n",
    "full_model = keras.Sequential(\n",
    "    [\n",
    "        keras.layers.Input(shape=input_shape),\n",
    "        keras.layers.Dense(64, activation=\"relu\"),\n",
    "        keras.layers.Dense(128, activation=\"relu\"),\n",
    "        keras.layers.Dense(256, activation=\"relu\"),\n",
    "        keras.layers.Dense(3,activation=\"linear\")\n",
    "    ]\n",
    ")\n",
    "full_model.compile(\n",
    "    loss=keras.losses.MeanSquaredError(),\n",
    "    optimizer=keras.optimizers.Adam(learning_rate=3e-4),\n",
    ")\n",
    "full_model.summary()"
   ]
  },
  {
   "cell_type": "code",
   "execution_count": 59,
   "metadata": {},
   "outputs": [
    {
     "name": "stdout",
     "output_type": "stream",
     "text": [
      "Epoch 1/200\n",
      "\u001b[1m1038/1038\u001b[0m \u001b[32m━━━━━━━━━━━━━━━━━━━━\u001b[0m\u001b[37m\u001b[0m \u001b[1m16s\u001b[0m 14ms/step - loss: 0.0034 - val_loss: 0.0031\n",
      "Epoch 2/200\n",
      "\u001b[1m1038/1038\u001b[0m \u001b[32m━━━━━━━━━━━━━━━━━━━━\u001b[0m\u001b[37m\u001b[0m \u001b[1m11s\u001b[0m 9ms/step - loss: 0.0015 - val_loss: 0.0025\n",
      "Epoch 3/200\n",
      "\u001b[1m1038/1038\u001b[0m \u001b[32m━━━━━━━━━━━━━━━━━━━━\u001b[0m\u001b[37m\u001b[0m \u001b[1m10s\u001b[0m 9ms/step - loss: 0.0011 - val_loss: 0.0020\n",
      "Epoch 4/200\n",
      "\u001b[1m1038/1038\u001b[0m \u001b[32m━━━━━━━━━━━━━━━━━━━━\u001b[0m\u001b[37m\u001b[0m \u001b[1m11s\u001b[0m 10ms/step - loss: 0.0014 - val_loss: 0.0017\n",
      "Epoch 5/200\n",
      "\u001b[1m1038/1038\u001b[0m \u001b[32m━━━━━━━━━━━━━━━━━━━━\u001b[0m\u001b[37m\u001b[0m \u001b[1m15s\u001b[0m 14ms/step - loss: 9.5389e-04 - val_loss: 0.0016\n",
      "Epoch 6/200\n",
      "\u001b[1m1038/1038\u001b[0m \u001b[32m━━━━━━━━━━━━━━━━━━━━\u001b[0m\u001b[37m\u001b[0m \u001b[1m15s\u001b[0m 14ms/step - loss: 6.6756e-04 - val_loss: 0.0015\n",
      "Epoch 7/200\n",
      "\u001b[1m1038/1038\u001b[0m \u001b[32m━━━━━━━━━━━━━━━━━━━━\u001b[0m\u001b[37m\u001b[0m \u001b[1m15s\u001b[0m 14ms/step - loss: 6.0275e-04 - val_loss: 0.0015\n",
      "Epoch 8/200\n",
      "\u001b[1m1038/1038\u001b[0m \u001b[32m━━━━━━━━━━━━━━━━━━━━\u001b[0m\u001b[37m\u001b[0m \u001b[1m15s\u001b[0m 14ms/step - loss: 7.7425e-04 - val_loss: 0.0014\n",
      "Epoch 9/200\n",
      "\u001b[1m1038/1038\u001b[0m \u001b[32m━━━━━━━━━━━━━━━━━━━━\u001b[0m\u001b[37m\u001b[0m \u001b[1m15s\u001b[0m 14ms/step - loss: 4.6770e-04 - val_loss: 0.0013\n",
      "Epoch 10/200\n",
      "\u001b[1m1038/1038\u001b[0m \u001b[32m━━━━━━━━━━━━━━━━━━━━\u001b[0m\u001b[37m\u001b[0m \u001b[1m15s\u001b[0m 14ms/step - loss: 4.2377e-04 - val_loss: 0.0013\n",
      "Epoch 11/200\n",
      "\u001b[1m1038/1038\u001b[0m \u001b[32m━━━━━━━━━━━━━━━━━━━━\u001b[0m\u001b[37m\u001b[0m \u001b[1m15s\u001b[0m 14ms/step - loss: 3.8020e-04 - val_loss: 0.0012\n",
      "Epoch 12/200\n",
      "\u001b[1m1038/1038\u001b[0m \u001b[32m━━━━━━━━━━━━━━━━━━━━\u001b[0m\u001b[37m\u001b[0m \u001b[1m15s\u001b[0m 14ms/step - loss: 3.4436e-04 - val_loss: 0.0013\n",
      "Epoch 13/200\n",
      "\u001b[1m1038/1038\u001b[0m \u001b[32m━━━━━━━━━━━━━━━━━━━━\u001b[0m\u001b[37m\u001b[0m \u001b[1m15s\u001b[0m 14ms/step - loss: 2.9856e-04 - val_loss: 0.0012\n",
      "Epoch 14/200\n",
      "\u001b[1m1038/1038\u001b[0m \u001b[32m━━━━━━━━━━━━━━━━━━━━\u001b[0m\u001b[37m\u001b[0m \u001b[1m15s\u001b[0m 14ms/step - loss: 2.8862e-04 - val_loss: 0.0011\n",
      "Epoch 15/200\n",
      "\u001b[1m1038/1038\u001b[0m \u001b[32m━━━━━━━━━━━━━━━━━━━━\u001b[0m\u001b[37m\u001b[0m \u001b[1m15s\u001b[0m 14ms/step - loss: 2.9924e-04 - val_loss: 0.0011\n",
      "Epoch 16/200\n",
      "\u001b[1m1038/1038\u001b[0m \u001b[32m━━━━━━━━━━━━━━━━━━━━\u001b[0m\u001b[37m\u001b[0m \u001b[1m15s\u001b[0m 14ms/step - loss: 2.6001e-04 - val_loss: 0.0012\n",
      "Epoch 17/200\n",
      "\u001b[1m1038/1038\u001b[0m \u001b[32m━━━━━━━━━━━━━━━━━━━━\u001b[0m\u001b[37m\u001b[0m \u001b[1m15s\u001b[0m 14ms/step - loss: 2.3537e-04 - val_loss: 0.0011\n",
      "Epoch 18/200\n",
      "\u001b[1m1038/1038\u001b[0m \u001b[32m━━━━━━━━━━━━━━━━━━━━\u001b[0m\u001b[37m\u001b[0m \u001b[1m15s\u001b[0m 14ms/step - loss: 2.2914e-04 - val_loss: 0.0011\n",
      "Epoch 19/200\n",
      "\u001b[1m1038/1038\u001b[0m \u001b[32m━━━━━━━━━━━━━━━━━━━━\u001b[0m\u001b[37m\u001b[0m \u001b[1m15s\u001b[0m 14ms/step - loss: 1.9659e-04 - val_loss: 0.0012\n",
      "Epoch 20/200\n",
      "\u001b[1m1038/1038\u001b[0m \u001b[32m━━━━━━━━━━━━━━━━━━━━\u001b[0m\u001b[37m\u001b[0m \u001b[1m16s\u001b[0m 14ms/step - loss: 1.9835e-04 - val_loss: 0.0011\n",
      "Epoch 21/200\n",
      "\u001b[1m1038/1038\u001b[0m \u001b[32m━━━━━━━━━━━━━━━━━━━━\u001b[0m\u001b[37m\u001b[0m \u001b[1m15s\u001b[0m 14ms/step - loss: 1.8828e-04 - val_loss: 0.0010\n",
      "Epoch 22/200\n",
      "\u001b[1m1038/1038\u001b[0m \u001b[32m━━━━━━━━━━━━━━━━━━━━\u001b[0m\u001b[37m\u001b[0m \u001b[1m15s\u001b[0m 14ms/step - loss: 1.8372e-04 - val_loss: 0.0011\n",
      "Epoch 23/200\n",
      "\u001b[1m1038/1038\u001b[0m \u001b[32m━━━━━━━━━━━━━━━━━━━━\u001b[0m\u001b[37m\u001b[0m \u001b[1m15s\u001b[0m 14ms/step - loss: 1.6885e-04 - val_loss: 0.0011\n",
      "Epoch 24/200\n",
      "\u001b[1m1038/1038\u001b[0m \u001b[32m━━━━━━━━━━━━━━━━━━━━\u001b[0m\u001b[37m\u001b[0m \u001b[1m15s\u001b[0m 14ms/step - loss: 1.5952e-04 - val_loss: 0.0011\n",
      "Epoch 25/200\n",
      "\u001b[1m1038/1038\u001b[0m \u001b[32m━━━━━━━━━━━━━━━━━━━━\u001b[0m\u001b[37m\u001b[0m \u001b[1m15s\u001b[0m 14ms/step - loss: 1.5023e-04 - val_loss: 0.0010\n",
      "Epoch 26/200\n",
      "\u001b[1m1038/1038\u001b[0m \u001b[32m━━━━━━━━━━━━━━━━━━━━\u001b[0m\u001b[37m\u001b[0m \u001b[1m15s\u001b[0m 14ms/step - loss: 1.3866e-04 - val_loss: 0.0011\n",
      "Epoch 27/200\n",
      "\u001b[1m1038/1038\u001b[0m \u001b[32m━━━━━━━━━━━━━━━━━━━━\u001b[0m\u001b[37m\u001b[0m \u001b[1m15s\u001b[0m 14ms/step - loss: 1.3946e-04 - val_loss: 0.0011\n",
      "Epoch 28/200\n",
      "\u001b[1m1038/1038\u001b[0m \u001b[32m━━━━━━━━━━━━━━━━━━━━\u001b[0m\u001b[37m\u001b[0m \u001b[1m15s\u001b[0m 14ms/step - loss: 1.3058e-04 - val_loss: 0.0011\n",
      "Epoch 29/200\n",
      "\u001b[1m1038/1038\u001b[0m \u001b[32m━━━━━━━━━━━━━━━━━━━━\u001b[0m\u001b[37m\u001b[0m \u001b[1m15s\u001b[0m 14ms/step - loss: 1.2594e-04 - val_loss: 0.0011\n",
      "Epoch 30/200\n",
      "\u001b[1m1038/1038\u001b[0m \u001b[32m━━━━━━━━━━━━━━━━━━━━\u001b[0m\u001b[37m\u001b[0m \u001b[1m15s\u001b[0m 14ms/step - loss: 1.2436e-04 - val_loss: 0.0012\n",
      "Epoch 31/200\n",
      "\u001b[1m1038/1038\u001b[0m \u001b[32m━━━━━━━━━━━━━━━━━━━━\u001b[0m\u001b[37m\u001b[0m \u001b[1m15s\u001b[0m 14ms/step - loss: 1.2148e-04 - val_loss: 0.0012\n",
      "Epoch 32/200\n",
      "\u001b[1m1038/1038\u001b[0m \u001b[32m━━━━━━━━━━━━━━━━━━━━\u001b[0m\u001b[37m\u001b[0m \u001b[1m15s\u001b[0m 14ms/step - loss: 1.2555e-04 - val_loss: 0.0011\n",
      "Epoch 33/200\n",
      "\u001b[1m1038/1038\u001b[0m \u001b[32m━━━━━━━━━━━━━━━━━━━━\u001b[0m\u001b[37m\u001b[0m \u001b[1m15s\u001b[0m 14ms/step - loss: 1.1615e-04 - val_loss: 0.0011\n",
      "Epoch 34/200\n",
      "\u001b[1m1038/1038\u001b[0m \u001b[32m━━━━━━━━━━━━━━━━━━━━\u001b[0m\u001b[37m\u001b[0m \u001b[1m15s\u001b[0m 14ms/step - loss: 1.0389e-04 - val_loss: 0.0011\n",
      "Epoch 35/200\n",
      "\u001b[1m1038/1038\u001b[0m \u001b[32m━━━━━━━━━━━━━━━━━━━━\u001b[0m\u001b[37m\u001b[0m \u001b[1m15s\u001b[0m 14ms/step - loss: 1.1908e-04 - val_loss: 0.0011\n",
      "Epoch 36/200\n",
      "\u001b[1m1038/1038\u001b[0m \u001b[32m━━━━━━━━━━━━━━━━━━━━\u001b[0m\u001b[37m\u001b[0m \u001b[1m15s\u001b[0m 14ms/step - loss: 1.0359e-04 - val_loss: 0.0011\n",
      "Epoch 37/200\n",
      "\u001b[1m1038/1038\u001b[0m \u001b[32m━━━━━━━━━━━━━━━━━━━━\u001b[0m\u001b[37m\u001b[0m \u001b[1m15s\u001b[0m 14ms/step - loss: 1.0442e-04 - val_loss: 0.0012\n",
      "Epoch 38/200\n",
      "\u001b[1m1038/1038\u001b[0m \u001b[32m━━━━━━━━━━━━━━━━━━━━\u001b[0m\u001b[37m\u001b[0m \u001b[1m15s\u001b[0m 14ms/step - loss: 9.1872e-05 - val_loss: 0.0012\n",
      "Epoch 39/200\n",
      "\u001b[1m1038/1038\u001b[0m \u001b[32m━━━━━━━━━━━━━━━━━━━━\u001b[0m\u001b[37m\u001b[0m \u001b[1m15s\u001b[0m 14ms/step - loss: 9.2140e-05 - val_loss: 0.0012\n",
      "Epoch 40/200\n",
      "\u001b[1m1038/1038\u001b[0m \u001b[32m━━━━━━━━━━━━━━━━━━━━\u001b[0m\u001b[37m\u001b[0m \u001b[1m15s\u001b[0m 13ms/step - loss: 8.9699e-05 - val_loss: 0.0012\n",
      "Epoch 41/200\n",
      "\u001b[1m1038/1038\u001b[0m \u001b[32m━━━━━━━━━━━━━━━━━━━━\u001b[0m\u001b[37m\u001b[0m \u001b[1m15s\u001b[0m 14ms/step - loss: 8.6598e-05 - val_loss: 0.0012\n",
      "Epoch 42/200\n",
      "\u001b[1m1038/1038\u001b[0m \u001b[32m━━━━━━━━━━━━━━━━━━━━\u001b[0m\u001b[37m\u001b[0m \u001b[1m15s\u001b[0m 14ms/step - loss: 8.5860e-05 - val_loss: 0.0012\n",
      "Epoch 43/200\n",
      "\u001b[1m1038/1038\u001b[0m \u001b[32m━━━━━━━━━━━━━━━━━━━━\u001b[0m\u001b[37m\u001b[0m \u001b[1m14s\u001b[0m 13ms/step - loss: 8.9973e-05 - val_loss: 0.0012\n",
      "Epoch 44/200\n",
      "\u001b[1m1038/1038\u001b[0m \u001b[32m━━━━━━━━━━━━━━━━━━━━\u001b[0m\u001b[37m\u001b[0m \u001b[1m14s\u001b[0m 13ms/step - loss: 8.7621e-05 - val_loss: 0.0012\n",
      "Epoch 45/200\n",
      "\u001b[1m1038/1038\u001b[0m \u001b[32m━━━━━━━━━━━━━━━━━━━━\u001b[0m\u001b[37m\u001b[0m \u001b[1m14s\u001b[0m 13ms/step - loss: 8.2148e-05 - val_loss: 0.0012\n",
      "Epoch 46/200\n",
      "\u001b[1m1038/1038\u001b[0m \u001b[32m━━━━━━━━━━━━━━━━━━━━\u001b[0m\u001b[37m\u001b[0m \u001b[1m14s\u001b[0m 13ms/step - loss: 7.8028e-05 - val_loss: 0.0013\n",
      "Epoch 47/200\n",
      "\u001b[1m1038/1038\u001b[0m \u001b[32m━━━━━━━━━━━━━━━━━━━━\u001b[0m\u001b[37m\u001b[0m \u001b[1m14s\u001b[0m 13ms/step - loss: 8.5703e-05 - val_loss: 0.0012\n",
      "Epoch 48/200\n",
      "\u001b[1m1038/1038\u001b[0m \u001b[32m━━━━━━━━━━━━━━━━━━━━\u001b[0m\u001b[37m\u001b[0m \u001b[1m14s\u001b[0m 13ms/step - loss: 7.8980e-05 - val_loss: 0.0012\n",
      "Epoch 49/200\n",
      "\u001b[1m1038/1038\u001b[0m \u001b[32m━━━━━━━━━━━━━━━━━━━━\u001b[0m\u001b[37m\u001b[0m \u001b[1m14s\u001b[0m 13ms/step - loss: 6.9667e-05 - val_loss: 0.0013\n",
      "Epoch 50/200\n",
      "\u001b[1m1038/1038\u001b[0m \u001b[32m━━━━━━━━━━━━━━━━━━━━\u001b[0m\u001b[37m\u001b[0m \u001b[1m14s\u001b[0m 13ms/step - loss: 7.4638e-05 - val_loss: 0.0013\n",
      "Epoch 51/200\n",
      "\u001b[1m1038/1038\u001b[0m \u001b[32m━━━━━━━━━━━━━━━━━━━━\u001b[0m\u001b[37m\u001b[0m \u001b[1m14s\u001b[0m 13ms/step - loss: 6.8900e-05 - val_loss: 0.0013\n",
      "Epoch 52/200\n",
      "\u001b[1m1038/1038\u001b[0m \u001b[32m━━━━━━━━━━━━━━━━━━━━\u001b[0m\u001b[37m\u001b[0m \u001b[1m14s\u001b[0m 13ms/step - loss: 7.2337e-05 - val_loss: 0.0013\n",
      "Epoch 53/200\n",
      "\u001b[1m1038/1038\u001b[0m \u001b[32m━━━━━━━━━━━━━━━━━━━━\u001b[0m\u001b[37m\u001b[0m \u001b[1m14s\u001b[0m 13ms/step - loss: 6.9117e-05 - val_loss: 0.0013\n",
      "Epoch 54/200\n",
      "\u001b[1m1038/1038\u001b[0m \u001b[32m━━━━━━━━━━━━━━━━━━━━\u001b[0m\u001b[37m\u001b[0m \u001b[1m14s\u001b[0m 13ms/step - loss: 6.8113e-05 - val_loss: 0.0013\n",
      "Epoch 55/200\n",
      "\u001b[1m1038/1038\u001b[0m \u001b[32m━━━━━━━━━━━━━━━━━━━━\u001b[0m\u001b[37m\u001b[0m \u001b[1m14s\u001b[0m 13ms/step - loss: 6.7821e-05 - val_loss: 0.0013\n",
      "Epoch 56/200\n",
      "\u001b[1m1038/1038\u001b[0m \u001b[32m━━━━━━━━━━━━━━━━━━━━\u001b[0m\u001b[37m\u001b[0m \u001b[1m14s\u001b[0m 13ms/step - loss: 6.3405e-05 - val_loss: 0.0013\n",
      "Epoch 57/200\n",
      "\u001b[1m1038/1038\u001b[0m \u001b[32m━━━━━━━━━━━━━━━━━━━━\u001b[0m\u001b[37m\u001b[0m \u001b[1m14s\u001b[0m 13ms/step - loss: 6.4713e-05 - val_loss: 0.0013\n",
      "Epoch 58/200\n",
      "\u001b[1m1038/1038\u001b[0m \u001b[32m━━━━━━━━━━━━━━━━━━━━\u001b[0m\u001b[37m\u001b[0m \u001b[1m14s\u001b[0m 13ms/step - loss: 6.1515e-05 - val_loss: 0.0013\n",
      "Epoch 59/200\n",
      "\u001b[1m1038/1038\u001b[0m \u001b[32m━━━━━━━━━━━━━━━━━━━━\u001b[0m\u001b[37m\u001b[0m \u001b[1m14s\u001b[0m 13ms/step - loss: 6.1870e-05 - val_loss: 0.0014\n",
      "Epoch 60/200\n",
      "\u001b[1m1038/1038\u001b[0m \u001b[32m━━━━━━━━━━━━━━━━━━━━\u001b[0m\u001b[37m\u001b[0m \u001b[1m14s\u001b[0m 13ms/step - loss: 6.2180e-05 - val_loss: 0.0014\n",
      "Epoch 61/200\n",
      "\u001b[1m1038/1038\u001b[0m \u001b[32m━━━━━━━━━━━━━━━━━━━━\u001b[0m\u001b[37m\u001b[0m \u001b[1m14s\u001b[0m 13ms/step - loss: 6.2975e-05 - val_loss: 0.0013\n",
      "Epoch 62/200\n",
      "\u001b[1m1038/1038\u001b[0m \u001b[32m━━━━━━━━━━━━━━━━━━━━\u001b[0m\u001b[37m\u001b[0m \u001b[1m14s\u001b[0m 13ms/step - loss: 5.7239e-05 - val_loss: 0.0013\n",
      "Epoch 63/200\n",
      "\u001b[1m1038/1038\u001b[0m \u001b[32m━━━━━━━━━━━━━━━━━━━━\u001b[0m\u001b[37m\u001b[0m \u001b[1m14s\u001b[0m 13ms/step - loss: 6.0999e-05 - val_loss: 0.0013\n",
      "Epoch 64/200\n",
      "\u001b[1m1038/1038\u001b[0m \u001b[32m━━━━━━━━━━━━━━━━━━━━\u001b[0m\u001b[37m\u001b[0m \u001b[1m14s\u001b[0m 13ms/step - loss: 5.7355e-05 - val_loss: 0.0013\n",
      "Epoch 65/200\n",
      "\u001b[1m1038/1038\u001b[0m \u001b[32m━━━━━━━━━━━━━━━━━━━━\u001b[0m\u001b[37m\u001b[0m \u001b[1m14s\u001b[0m 13ms/step - loss: 6.1257e-05 - val_loss: 0.0013\n",
      "Epoch 66/200\n",
      "\u001b[1m1038/1038\u001b[0m \u001b[32m━━━━━━━━━━━━━━━━━━━━\u001b[0m\u001b[37m\u001b[0m \u001b[1m14s\u001b[0m 13ms/step - loss: 5.6243e-05 - val_loss: 0.0013\n",
      "Epoch 67/200\n",
      "\u001b[1m1038/1038\u001b[0m \u001b[32m━━━━━━━━━━━━━━━━━━━━\u001b[0m\u001b[37m\u001b[0m \u001b[1m14s\u001b[0m 13ms/step - loss: 5.2541e-05 - val_loss: 0.0013\n",
      "Epoch 68/200\n",
      "\u001b[1m1038/1038\u001b[0m \u001b[32m━━━━━━━━━━━━━━━━━━━━\u001b[0m\u001b[37m\u001b[0m \u001b[1m14s\u001b[0m 13ms/step - loss: 5.9494e-05 - val_loss: 0.0013\n",
      "Epoch 69/200\n",
      "\u001b[1m1038/1038\u001b[0m \u001b[32m━━━━━━━━━━━━━━━━━━━━\u001b[0m\u001b[37m\u001b[0m \u001b[1m14s\u001b[0m 13ms/step - loss: 5.5737e-05 - val_loss: 0.0013\n",
      "Epoch 70/200\n",
      "\u001b[1m1038/1038\u001b[0m \u001b[32m━━━━━━━━━━━━━━━━━━━━\u001b[0m\u001b[37m\u001b[0m \u001b[1m14s\u001b[0m 13ms/step - loss: 5.5473e-05 - val_loss: 0.0013\n",
      "Epoch 71/200\n",
      "\u001b[1m1038/1038\u001b[0m \u001b[32m━━━━━━━━━━━━━━━━━━━━\u001b[0m\u001b[37m\u001b[0m \u001b[1m14s\u001b[0m 13ms/step - loss: 4.9207e-05 - val_loss: 0.0013\n",
      "Epoch 72/200\n",
      "\u001b[1m1038/1038\u001b[0m \u001b[32m━━━━━━━━━━━━━━━━━━━━\u001b[0m\u001b[37m\u001b[0m \u001b[1m14s\u001b[0m 13ms/step - loss: 5.1896e-05 - val_loss: 0.0013\n",
      "Epoch 73/200\n",
      "\u001b[1m1038/1038\u001b[0m \u001b[32m━━━━━━━━━━━━━━━━━━━━\u001b[0m\u001b[37m\u001b[0m \u001b[1m14s\u001b[0m 13ms/step - loss: 5.1568e-05 - val_loss: 0.0013\n",
      "Epoch 74/200\n",
      "\u001b[1m1038/1038\u001b[0m \u001b[32m━━━━━━━━━━━━━━━━━━━━\u001b[0m\u001b[37m\u001b[0m \u001b[1m14s\u001b[0m 13ms/step - loss: 7.8010e-05 - val_loss: 0.0013\n",
      "Epoch 75/200\n",
      "\u001b[1m1038/1038\u001b[0m \u001b[32m━━━━━━━━━━━━━━━━━━━━\u001b[0m\u001b[37m\u001b[0m \u001b[1m14s\u001b[0m 13ms/step - loss: 4.8832e-05 - val_loss: 0.0013\n",
      "Epoch 76/200\n",
      "\u001b[1m1038/1038\u001b[0m \u001b[32m━━━━━━━━━━━━━━━━━━━━\u001b[0m\u001b[37m\u001b[0m \u001b[1m14s\u001b[0m 13ms/step - loss: 5.8084e-05 - val_loss: 0.0012\n",
      "Epoch 77/200\n",
      "\u001b[1m1038/1038\u001b[0m \u001b[32m━━━━━━━━━━━━━━━━━━━━\u001b[0m\u001b[37m\u001b[0m \u001b[1m14s\u001b[0m 13ms/step - loss: 5.1657e-05 - val_loss: 0.0013\n",
      "Epoch 78/200\n",
      "\u001b[1m1038/1038\u001b[0m \u001b[32m━━━━━━━━━━━━━━━━━━━━\u001b[0m\u001b[37m\u001b[0m \u001b[1m14s\u001b[0m 13ms/step - loss: 4.9557e-05 - val_loss: 0.0013\n",
      "Epoch 79/200\n",
      "\u001b[1m1038/1038\u001b[0m \u001b[32m━━━━━━━━━━━━━━━━━━━━\u001b[0m\u001b[37m\u001b[0m \u001b[1m14s\u001b[0m 13ms/step - loss: 5.1020e-05 - val_loss: 0.0013\n",
      "Epoch 80/200\n",
      "\u001b[1m1038/1038\u001b[0m \u001b[32m━━━━━━━━━━━━━━━━━━━━\u001b[0m\u001b[37m\u001b[0m \u001b[1m14s\u001b[0m 13ms/step - loss: 4.6913e-05 - val_loss: 0.0014\n",
      "Epoch 81/200\n",
      "\u001b[1m1038/1038\u001b[0m \u001b[32m━━━━━━━━━━━━━━━━━━━━\u001b[0m\u001b[37m\u001b[0m \u001b[1m14s\u001b[0m 13ms/step - loss: 4.6315e-05 - val_loss: 0.0013\n",
      "Epoch 82/200\n",
      "\u001b[1m1038/1038\u001b[0m \u001b[32m━━━━━━━━━━━━━━━━━━━━\u001b[0m\u001b[37m\u001b[0m \u001b[1m15s\u001b[0m 13ms/step - loss: 5.2771e-05 - val_loss: 0.0013\n",
      "Epoch 83/200\n",
      "\u001b[1m1038/1038\u001b[0m \u001b[32m━━━━━━━━━━━━━━━━━━━━\u001b[0m\u001b[37m\u001b[0m \u001b[1m14s\u001b[0m 13ms/step - loss: 4.6434e-05 - val_loss: 0.0013\n",
      "Epoch 84/200\n",
      "\u001b[1m1038/1038\u001b[0m \u001b[32m━━━━━━━━━━━━━━━━━━━━\u001b[0m\u001b[37m\u001b[0m \u001b[1m14s\u001b[0m 13ms/step - loss: 4.7247e-05 - val_loss: 0.0013\n",
      "Epoch 85/200\n",
      "\u001b[1m1038/1038\u001b[0m \u001b[32m━━━━━━━━━━━━━━━━━━━━\u001b[0m\u001b[37m\u001b[0m \u001b[1m14s\u001b[0m 13ms/step - loss: 4.8629e-05 - val_loss: 0.0013\n",
      "Epoch 86/200\n",
      "\u001b[1m1038/1038\u001b[0m \u001b[32m━━━━━━━━━━━━━━━━━━━━\u001b[0m\u001b[37m\u001b[0m \u001b[1m14s\u001b[0m 13ms/step - loss: 4.5876e-05 - val_loss: 0.0013\n",
      "Epoch 87/200\n",
      "\u001b[1m1038/1038\u001b[0m \u001b[32m━━━━━━━━━━━━━━━━━━━━\u001b[0m\u001b[37m\u001b[0m \u001b[1m14s\u001b[0m 13ms/step - loss: 4.3559e-05 - val_loss: 0.0014\n",
      "Epoch 88/200\n",
      "\u001b[1m1038/1038\u001b[0m \u001b[32m━━━━━━━━━━━━━━━━━━━━\u001b[0m\u001b[37m\u001b[0m \u001b[1m14s\u001b[0m 13ms/step - loss: 4.5678e-05 - val_loss: 0.0013\n",
      "Epoch 89/200\n",
      "\u001b[1m1038/1038\u001b[0m \u001b[32m━━━━━━━━━━━━━━━━━━━━\u001b[0m\u001b[37m\u001b[0m \u001b[1m14s\u001b[0m 13ms/step - loss: 4.5923e-05 - val_loss: 0.0013\n",
      "Epoch 90/200\n",
      "\u001b[1m1038/1038\u001b[0m \u001b[32m━━━━━━━━━━━━━━━━━━━━\u001b[0m\u001b[37m\u001b[0m \u001b[1m14s\u001b[0m 13ms/step - loss: 4.2074e-05 - val_loss: 0.0013\n",
      "Epoch 91/200\n",
      "\u001b[1m1038/1038\u001b[0m \u001b[32m━━━━━━━━━━━━━━━━━━━━\u001b[0m\u001b[37m\u001b[0m \u001b[1m14s\u001b[0m 13ms/step - loss: 4.4519e-05 - val_loss: 0.0013\n",
      "Epoch 92/200\n",
      "\u001b[1m1038/1038\u001b[0m \u001b[32m━━━━━━━━━━━━━━━━━━━━\u001b[0m\u001b[37m\u001b[0m \u001b[1m14s\u001b[0m 13ms/step - loss: 4.2945e-05 - val_loss: 0.0013\n",
      "Epoch 93/200\n",
      "\u001b[1m1038/1038\u001b[0m \u001b[32m━━━━━━━━━━━━━━━━━━━━\u001b[0m\u001b[37m\u001b[0m \u001b[1m14s\u001b[0m 13ms/step - loss: 4.1830e-05 - val_loss: 0.0013\n",
      "Epoch 94/200\n",
      "\u001b[1m1038/1038\u001b[0m \u001b[32m━━━━━━━━━━━━━━━━━━━━\u001b[0m\u001b[37m\u001b[0m \u001b[1m14s\u001b[0m 13ms/step - loss: 4.6529e-05 - val_loss: 0.0014\n",
      "Epoch 95/200\n",
      "\u001b[1m1038/1038\u001b[0m \u001b[32m━━━━━━━━━━━━━━━━━━━━\u001b[0m\u001b[37m\u001b[0m \u001b[1m14s\u001b[0m 13ms/step - loss: 4.0650e-05 - val_loss: 0.0013\n",
      "Epoch 96/200\n",
      "\u001b[1m1038/1038\u001b[0m \u001b[32m━━━━━━━━━━━━━━━━━━━━\u001b[0m\u001b[37m\u001b[0m \u001b[1m14s\u001b[0m 13ms/step - loss: 4.8032e-05 - val_loss: 0.0013\n",
      "Epoch 97/200\n",
      "\u001b[1m1038/1038\u001b[0m \u001b[32m━━━━━━━━━━━━━━━━━━━━\u001b[0m\u001b[37m\u001b[0m \u001b[1m14s\u001b[0m 13ms/step - loss: 4.1451e-05 - val_loss: 0.0013\n",
      "Epoch 98/200\n",
      "\u001b[1m1038/1038\u001b[0m \u001b[32m━━━━━━━━━━━━━━━━━━━━\u001b[0m\u001b[37m\u001b[0m \u001b[1m14s\u001b[0m 13ms/step - loss: 5.1972e-05 - val_loss: 0.0013\n",
      "Epoch 99/200\n",
      "\u001b[1m1038/1038\u001b[0m \u001b[32m━━━━━━━━━━━━━━━━━━━━\u001b[0m\u001b[37m\u001b[0m \u001b[1m14s\u001b[0m 13ms/step - loss: 4.4452e-05 - val_loss: 0.0013\n",
      "Epoch 100/200\n",
      "\u001b[1m1038/1038\u001b[0m \u001b[32m━━━━━━━━━━━━━━━━━━━━\u001b[0m\u001b[37m\u001b[0m \u001b[1m14s\u001b[0m 13ms/step - loss: 3.6595e-05 - val_loss: 0.0013\n",
      "Epoch 101/200\n",
      "\u001b[1m1038/1038\u001b[0m \u001b[32m━━━━━━━━━━━━━━━━━━━━\u001b[0m\u001b[37m\u001b[0m \u001b[1m14s\u001b[0m 13ms/step - loss: 3.8766e-05 - val_loss: 0.0013\n",
      "Epoch 102/200\n",
      "\u001b[1m1038/1038\u001b[0m \u001b[32m━━━━━━━━━━━━━━━━━━━━\u001b[0m\u001b[37m\u001b[0m \u001b[1m14s\u001b[0m 13ms/step - loss: 4.3351e-05 - val_loss: 0.0014\n",
      "Epoch 103/200\n",
      "\u001b[1m1038/1038\u001b[0m \u001b[32m━━━━━━━━━━━━━━━━━━━━\u001b[0m\u001b[37m\u001b[0m \u001b[1m14s\u001b[0m 13ms/step - loss: 4.0758e-05 - val_loss: 0.0014\n",
      "Epoch 104/200\n",
      "\u001b[1m1038/1038\u001b[0m \u001b[32m━━━━━━━━━━━━━━━━━━━━\u001b[0m\u001b[37m\u001b[0m \u001b[1m14s\u001b[0m 13ms/step - loss: 3.8454e-05 - val_loss: 0.0013\n",
      "Epoch 105/200\n",
      "\u001b[1m1038/1038\u001b[0m \u001b[32m━━━━━━━━━━━━━━━━━━━━\u001b[0m\u001b[37m\u001b[0m \u001b[1m14s\u001b[0m 13ms/step - loss: 4.7399e-05 - val_loss: 0.0013\n",
      "Epoch 106/200\n",
      "\u001b[1m1038/1038\u001b[0m \u001b[32m━━━━━━━━━━━━━━━━━━━━\u001b[0m\u001b[37m\u001b[0m \u001b[1m14s\u001b[0m 13ms/step - loss: 3.9260e-05 - val_loss: 0.0014\n",
      "Epoch 107/200\n",
      "\u001b[1m1038/1038\u001b[0m \u001b[32m━━━━━━━━━━━━━━━━━━━━\u001b[0m\u001b[37m\u001b[0m \u001b[1m14s\u001b[0m 13ms/step - loss: 4.0586e-05 - val_loss: 0.0013\n",
      "Epoch 108/200\n",
      "\u001b[1m1038/1038\u001b[0m \u001b[32m━━━━━━━━━━━━━━━━━━━━\u001b[0m\u001b[37m\u001b[0m \u001b[1m14s\u001b[0m 13ms/step - loss: 3.5284e-05 - val_loss: 0.0014\n",
      "Epoch 109/200\n",
      "\u001b[1m1038/1038\u001b[0m \u001b[32m━━━━━━━━━━━━━━━━━━━━\u001b[0m\u001b[37m\u001b[0m \u001b[1m14s\u001b[0m 13ms/step - loss: 3.9788e-05 - val_loss: 0.0014\n",
      "Epoch 110/200\n",
      "\u001b[1m1038/1038\u001b[0m \u001b[32m━━━━━━━━━━━━━━━━━━━━\u001b[0m\u001b[37m\u001b[0m \u001b[1m14s\u001b[0m 13ms/step - loss: 3.4324e-05 - val_loss: 0.0013\n",
      "Epoch 111/200\n",
      "\u001b[1m1038/1038\u001b[0m \u001b[32m━━━━━━━━━━━━━━━━━━━━\u001b[0m\u001b[37m\u001b[0m \u001b[1m14s\u001b[0m 13ms/step - loss: 4.1828e-05 - val_loss: 0.0014\n",
      "Epoch 112/200\n",
      "\u001b[1m1038/1038\u001b[0m \u001b[32m━━━━━━━━━━━━━━━━━━━━\u001b[0m\u001b[37m\u001b[0m \u001b[1m14s\u001b[0m 13ms/step - loss: 3.5935e-05 - val_loss: 0.0014\n",
      "Epoch 113/200\n",
      "\u001b[1m1038/1038\u001b[0m \u001b[32m━━━━━━━━━━━━━━━━━━━━\u001b[0m\u001b[37m\u001b[0m \u001b[1m14s\u001b[0m 13ms/step - loss: 3.5662e-05 - val_loss: 0.0014\n",
      "Epoch 114/200\n",
      "\u001b[1m1038/1038\u001b[0m \u001b[32m━━━━━━━━━━━━━━━━━━━━\u001b[0m\u001b[37m\u001b[0m \u001b[1m14s\u001b[0m 13ms/step - loss: 3.9196e-05 - val_loss: 0.0014\n",
      "Epoch 115/200\n",
      "\u001b[1m1038/1038\u001b[0m \u001b[32m━━━━━━━━━━━━━━━━━━━━\u001b[0m\u001b[37m\u001b[0m \u001b[1m14s\u001b[0m 13ms/step - loss: 3.3137e-05 - val_loss: 0.0013\n",
      "Epoch 116/200\n",
      "\u001b[1m1038/1038\u001b[0m \u001b[32m━━━━━━━━━━━━━━━━━━━━\u001b[0m\u001b[37m\u001b[0m \u001b[1m14s\u001b[0m 13ms/step - loss: 3.4898e-05 - val_loss: 0.0014\n",
      "Epoch 117/200\n",
      "\u001b[1m1038/1038\u001b[0m \u001b[32m━━━━━━━━━━━━━━━━━━━━\u001b[0m\u001b[37m\u001b[0m \u001b[1m14s\u001b[0m 13ms/step - loss: 3.5996e-05 - val_loss: 0.0014\n",
      "Epoch 118/200\n",
      "\u001b[1m1038/1038\u001b[0m \u001b[32m━━━━━━━━━━━━━━━━━━━━\u001b[0m\u001b[37m\u001b[0m \u001b[1m14s\u001b[0m 13ms/step - loss: 3.2723e-05 - val_loss: 0.0013\n",
      "Epoch 119/200\n",
      "\u001b[1m1038/1038\u001b[0m \u001b[32m━━━━━━━━━━━━━━━━━━━━\u001b[0m\u001b[37m\u001b[0m \u001b[1m14s\u001b[0m 13ms/step - loss: 4.3874e-05 - val_loss: 0.0014\n",
      "Epoch 120/200\n",
      "\u001b[1m1038/1038\u001b[0m \u001b[32m━━━━━━━━━━━━━━━━━━━━\u001b[0m\u001b[37m\u001b[0m \u001b[1m14s\u001b[0m 13ms/step - loss: 4.3617e-05 - val_loss: 0.0014\n",
      "Epoch 121/200\n",
      "\u001b[1m1038/1038\u001b[0m \u001b[32m━━━━━━━━━━━━━━━━━━━━\u001b[0m\u001b[37m\u001b[0m \u001b[1m14s\u001b[0m 13ms/step - loss: 3.5970e-05 - val_loss: 0.0014\n",
      "Epoch 122/200\n",
      "\u001b[1m1038/1038\u001b[0m \u001b[32m━━━━━━━━━━━━━━━━━━━━\u001b[0m\u001b[37m\u001b[0m \u001b[1m14s\u001b[0m 13ms/step - loss: 4.7430e-05 - val_loss: 0.0014\n",
      "Epoch 123/200\n",
      "\u001b[1m1038/1038\u001b[0m \u001b[32m━━━━━━━━━━━━━━━━━━━━\u001b[0m\u001b[37m\u001b[0m \u001b[1m14s\u001b[0m 13ms/step - loss: 3.8838e-05 - val_loss: 0.0014\n",
      "Epoch 124/200\n",
      "\u001b[1m1038/1038\u001b[0m \u001b[32m━━━━━━━━━━━━━━━━━━━━\u001b[0m\u001b[37m\u001b[0m \u001b[1m14s\u001b[0m 13ms/step - loss: 3.9972e-05 - val_loss: 0.0014\n",
      "Epoch 125/200\n",
      "\u001b[1m1038/1038\u001b[0m \u001b[32m━━━━━━━━━━━━━━━━━━━━\u001b[0m\u001b[37m\u001b[0m \u001b[1m14s\u001b[0m 13ms/step - loss: 3.6056e-05 - val_loss: 0.0014\n",
      "Epoch 126/200\n",
      "\u001b[1m1038/1038\u001b[0m \u001b[32m━━━━━━━━━━━━━━━━━━━━\u001b[0m\u001b[37m\u001b[0m \u001b[1m14s\u001b[0m 13ms/step - loss: 3.5482e-05 - val_loss: 0.0014\n",
      "Epoch 127/200\n",
      "\u001b[1m1038/1038\u001b[0m \u001b[32m━━━━━━━━━━━━━━━━━━━━\u001b[0m\u001b[37m\u001b[0m \u001b[1m14s\u001b[0m 13ms/step - loss: 3.2798e-05 - val_loss: 0.0014\n",
      "Epoch 128/200\n",
      "\u001b[1m1038/1038\u001b[0m \u001b[32m━━━━━━━━━━━━━━━━━━━━\u001b[0m\u001b[37m\u001b[0m \u001b[1m14s\u001b[0m 13ms/step - loss: 3.7399e-05 - val_loss: 0.0014\n",
      "Epoch 129/200\n",
      "\u001b[1m1038/1038\u001b[0m \u001b[32m━━━━━━━━━━━━━━━━━━━━\u001b[0m\u001b[37m\u001b[0m \u001b[1m14s\u001b[0m 13ms/step - loss: 3.1290e-05 - val_loss: 0.0014\n",
      "Epoch 130/200\n",
      "\u001b[1m1038/1038\u001b[0m \u001b[32m━━━━━━━━━━━━━━━━━━━━\u001b[0m\u001b[37m\u001b[0m \u001b[1m14s\u001b[0m 13ms/step - loss: 3.3235e-05 - val_loss: 0.0015\n",
      "Epoch 131/200\n",
      "\u001b[1m1038/1038\u001b[0m \u001b[32m━━━━━━━━━━━━━━━━━━━━\u001b[0m\u001b[37m\u001b[0m \u001b[1m14s\u001b[0m 13ms/step - loss: 3.1503e-05 - val_loss: 0.0014\n",
      "Epoch 132/200\n",
      "\u001b[1m1038/1038\u001b[0m \u001b[32m━━━━━━━━━━━━━━━━━━━━\u001b[0m\u001b[37m\u001b[0m \u001b[1m14s\u001b[0m 13ms/step - loss: 3.2321e-05 - val_loss: 0.0014\n",
      "Epoch 133/200\n",
      "\u001b[1m1038/1038\u001b[0m \u001b[32m━━━━━━━━━━━━━━━━━━━━\u001b[0m\u001b[37m\u001b[0m \u001b[1m14s\u001b[0m 13ms/step - loss: 4.1711e-05 - val_loss: 0.0013\n",
      "Epoch 134/200\n",
      "\u001b[1m1038/1038\u001b[0m \u001b[32m━━━━━━━━━━━━━━━━━━━━\u001b[0m\u001b[37m\u001b[0m \u001b[1m14s\u001b[0m 13ms/step - loss: 4.6598e-05 - val_loss: 0.0014\n",
      "Epoch 135/200\n",
      "\u001b[1m1038/1038\u001b[0m \u001b[32m━━━━━━━━━━━━━━━━━━━━\u001b[0m\u001b[37m\u001b[0m \u001b[1m14s\u001b[0m 13ms/step - loss: 2.8615e-05 - val_loss: 0.0014\n",
      "Epoch 136/200\n",
      "\u001b[1m1038/1038\u001b[0m \u001b[32m━━━━━━━━━━━━━━━━━━━━\u001b[0m\u001b[37m\u001b[0m \u001b[1m14s\u001b[0m 13ms/step - loss: 3.1920e-05 - val_loss: 0.0014\n",
      "Epoch 137/200\n",
      "\u001b[1m1038/1038\u001b[0m \u001b[32m━━━━━━━━━━━━━━━━━━━━\u001b[0m\u001b[37m\u001b[0m \u001b[1m14s\u001b[0m 13ms/step - loss: 3.7075e-05 - val_loss: 0.0014\n",
      "Epoch 138/200\n",
      "\u001b[1m1038/1038\u001b[0m \u001b[32m━━━━━━━━━━━━━━━━━━━━\u001b[0m\u001b[37m\u001b[0m \u001b[1m14s\u001b[0m 13ms/step - loss: 4.5339e-05 - val_loss: 0.0013\n",
      "Epoch 139/200\n",
      "\u001b[1m1038/1038\u001b[0m \u001b[32m━━━━━━━━━━━━━━━━━━━━\u001b[0m\u001b[37m\u001b[0m \u001b[1m14s\u001b[0m 13ms/step - loss: 3.2054e-05 - val_loss: 0.0014\n",
      "Epoch 140/200\n",
      "\u001b[1m1038/1038\u001b[0m \u001b[32m━━━━━━━━━━━━━━━━━━━━\u001b[0m\u001b[37m\u001b[0m \u001b[1m14s\u001b[0m 13ms/step - loss: 3.6435e-05 - val_loss: 0.0014\n",
      "Epoch 141/200\n",
      "\u001b[1m1038/1038\u001b[0m \u001b[32m━━━━━━━━━━━━━━━━━━━━\u001b[0m\u001b[37m\u001b[0m \u001b[1m14s\u001b[0m 13ms/step - loss: 3.3188e-05 - val_loss: 0.0014\n",
      "Epoch 142/200\n",
      "\u001b[1m1038/1038\u001b[0m \u001b[32m━━━━━━━━━━━━━━━━━━━━\u001b[0m\u001b[37m\u001b[0m \u001b[1m14s\u001b[0m 13ms/step - loss: 3.0158e-05 - val_loss: 0.0014\n",
      "Epoch 143/200\n",
      "\u001b[1m1038/1038\u001b[0m \u001b[32m━━━━━━━━━━━━━━━━━━━━\u001b[0m\u001b[37m\u001b[0m \u001b[1m14s\u001b[0m 13ms/step - loss: 3.2197e-05 - val_loss: 0.0014\n",
      "Epoch 144/200\n",
      "\u001b[1m1038/1038\u001b[0m \u001b[32m━━━━━━━━━━━━━━━━━━━━\u001b[0m\u001b[37m\u001b[0m \u001b[1m14s\u001b[0m 13ms/step - loss: 2.6085e-05 - val_loss: 0.0014\n",
      "Epoch 145/200\n",
      "\u001b[1m1038/1038\u001b[0m \u001b[32m━━━━━━━━━━━━━━━━━━━━\u001b[0m\u001b[37m\u001b[0m \u001b[1m14s\u001b[0m 13ms/step - loss: 3.9009e-05 - val_loss: 0.0014\n",
      "Epoch 146/200\n",
      "\u001b[1m1038/1038\u001b[0m \u001b[32m━━━━━━━━━━━━━━━━━━━━\u001b[0m\u001b[37m\u001b[0m \u001b[1m14s\u001b[0m 13ms/step - loss: 3.1838e-05 - val_loss: 0.0014\n",
      "Epoch 147/200\n",
      "\u001b[1m1038/1038\u001b[0m \u001b[32m━━━━━━━━━━━━━━━━━━━━\u001b[0m\u001b[37m\u001b[0m \u001b[1m14s\u001b[0m 13ms/step - loss: 2.5321e-05 - val_loss: 0.0014\n",
      "Epoch 148/200\n",
      "\u001b[1m1038/1038\u001b[0m \u001b[32m━━━━━━━━━━━━━━━━━━━━\u001b[0m\u001b[37m\u001b[0m \u001b[1m14s\u001b[0m 13ms/step - loss: 3.3208e-05 - val_loss: 0.0014\n",
      "Epoch 149/200\n",
      "\u001b[1m1038/1038\u001b[0m \u001b[32m━━━━━━━━━━━━━━━━━━━━\u001b[0m\u001b[37m\u001b[0m \u001b[1m14s\u001b[0m 13ms/step - loss: 2.7887e-05 - val_loss: 0.0014\n",
      "Epoch 150/200\n",
      "\u001b[1m1038/1038\u001b[0m \u001b[32m━━━━━━━━━━━━━━━━━━━━\u001b[0m\u001b[37m\u001b[0m \u001b[1m14s\u001b[0m 13ms/step - loss: 2.8228e-05 - val_loss: 0.0014\n",
      "Epoch 151/200\n",
      "\u001b[1m1038/1038\u001b[0m \u001b[32m━━━━━━━━━━━━━━━━━━━━\u001b[0m\u001b[37m\u001b[0m \u001b[1m14s\u001b[0m 13ms/step - loss: 2.7149e-05 - val_loss: 0.0014\n",
      "Epoch 152/200\n",
      "\u001b[1m1038/1038\u001b[0m \u001b[32m━━━━━━━━━━━━━━━━━━━━\u001b[0m\u001b[37m\u001b[0m \u001b[1m14s\u001b[0m 13ms/step - loss: 3.3027e-05 - val_loss: 0.0014\n",
      "Epoch 153/200\n",
      "\u001b[1m1038/1038\u001b[0m \u001b[32m━━━━━━━━━━━━━━━━━━━━\u001b[0m\u001b[37m\u001b[0m \u001b[1m14s\u001b[0m 13ms/step - loss: 3.2926e-05 - val_loss: 0.0014\n",
      "Epoch 154/200\n",
      "\u001b[1m1038/1038\u001b[0m \u001b[32m━━━━━━━━━━━━━━━━━━━━\u001b[0m\u001b[37m\u001b[0m \u001b[1m14s\u001b[0m 13ms/step - loss: 3.1325e-05 - val_loss: 0.0013\n",
      "Epoch 155/200\n",
      "\u001b[1m1038/1038\u001b[0m \u001b[32m━━━━━━━━━━━━━━━━━━━━\u001b[0m\u001b[37m\u001b[0m \u001b[1m14s\u001b[0m 13ms/step - loss: 2.9743e-05 - val_loss: 0.0014\n",
      "Epoch 156/200\n",
      "\u001b[1m1038/1038\u001b[0m \u001b[32m━━━━━━━━━━━━━━━━━━━━\u001b[0m\u001b[37m\u001b[0m \u001b[1m14s\u001b[0m 13ms/step - loss: 3.6177e-05 - val_loss: 0.0014\n",
      "Epoch 157/200\n",
      "\u001b[1m1038/1038\u001b[0m \u001b[32m━━━━━━━━━━━━━━━━━━━━\u001b[0m\u001b[37m\u001b[0m \u001b[1m14s\u001b[0m 13ms/step - loss: 2.7141e-05 - val_loss: 0.0014\n",
      "Epoch 158/200\n",
      "\u001b[1m1038/1038\u001b[0m \u001b[32m━━━━━━━━━━━━━━━━━━━━\u001b[0m\u001b[37m\u001b[0m \u001b[1m14s\u001b[0m 13ms/step - loss: 2.9909e-05 - val_loss: 0.0014\n",
      "Epoch 159/200\n",
      "\u001b[1m1038/1038\u001b[0m \u001b[32m━━━━━━━━━━━━━━━━━━━━\u001b[0m\u001b[37m\u001b[0m \u001b[1m14s\u001b[0m 13ms/step - loss: 2.8468e-05 - val_loss: 0.0014\n",
      "Epoch 160/200\n",
      "\u001b[1m1038/1038\u001b[0m \u001b[32m━━━━━━━━━━━━━━━━━━━━\u001b[0m\u001b[37m\u001b[0m \u001b[1m14s\u001b[0m 13ms/step - loss: 2.9552e-05 - val_loss: 0.0014\n",
      "Epoch 161/200\n",
      "\u001b[1m1038/1038\u001b[0m \u001b[32m━━━━━━━━━━━━━━━━━━━━\u001b[0m\u001b[37m\u001b[0m \u001b[1m14s\u001b[0m 13ms/step - loss: 2.3848e-05 - val_loss: 0.0014\n",
      "Epoch 162/200\n",
      "\u001b[1m1038/1038\u001b[0m \u001b[32m━━━━━━━━━━━━━━━━━━━━\u001b[0m\u001b[37m\u001b[0m \u001b[1m14s\u001b[0m 13ms/step - loss: 2.6634e-05 - val_loss: 0.0014\n",
      "Epoch 163/200\n",
      "\u001b[1m1038/1038\u001b[0m \u001b[32m━━━━━━━━━━━━━━━━━━━━\u001b[0m\u001b[37m\u001b[0m \u001b[1m14s\u001b[0m 13ms/step - loss: 2.5877e-05 - val_loss: 0.0014\n",
      "Epoch 164/200\n",
      "\u001b[1m1038/1038\u001b[0m \u001b[32m━━━━━━━━━━━━━━━━━━━━\u001b[0m\u001b[37m\u001b[0m \u001b[1m14s\u001b[0m 13ms/step - loss: 3.2879e-05 - val_loss: 0.0015\n",
      "Epoch 165/200\n",
      "\u001b[1m1038/1038\u001b[0m \u001b[32m━━━━━━━━━━━━━━━━━━━━\u001b[0m\u001b[37m\u001b[0m \u001b[1m14s\u001b[0m 13ms/step - loss: 2.5880e-05 - val_loss: 0.0014\n",
      "Epoch 166/200\n",
      "\u001b[1m1038/1038\u001b[0m \u001b[32m━━━━━━━━━━━━━━━━━━━━\u001b[0m\u001b[37m\u001b[0m \u001b[1m14s\u001b[0m 13ms/step - loss: 4.3023e-05 - val_loss: 0.0014\n",
      "Epoch 167/200\n",
      "\u001b[1m1038/1038\u001b[0m \u001b[32m━━━━━━━━━━━━━━━━━━━━\u001b[0m\u001b[37m\u001b[0m \u001b[1m14s\u001b[0m 13ms/step - loss: 2.7299e-05 - val_loss: 0.0014\n",
      "Epoch 168/200\n",
      "\u001b[1m1038/1038\u001b[0m \u001b[32m━━━━━━━━━━━━━━━━━━━━\u001b[0m\u001b[37m\u001b[0m \u001b[1m14s\u001b[0m 13ms/step - loss: 2.4555e-05 - val_loss: 0.0014\n",
      "Epoch 169/200\n",
      "\u001b[1m1038/1038\u001b[0m \u001b[32m━━━━━━━━━━━━━━━━━━━━\u001b[0m\u001b[37m\u001b[0m \u001b[1m14s\u001b[0m 13ms/step - loss: 3.2684e-05 - val_loss: 0.0014\n",
      "Epoch 170/200\n",
      "\u001b[1m1038/1038\u001b[0m \u001b[32m━━━━━━━━━━━━━━━━━━━━\u001b[0m\u001b[37m\u001b[0m \u001b[1m14s\u001b[0m 13ms/step - loss: 3.7645e-05 - val_loss: 0.0014\n",
      "Epoch 171/200\n",
      "\u001b[1m1038/1038\u001b[0m \u001b[32m━━━━━━━━━━━━━━━━━━━━\u001b[0m\u001b[37m\u001b[0m \u001b[1m14s\u001b[0m 13ms/step - loss: 2.4192e-05 - val_loss: 0.0014\n",
      "Epoch 172/200\n",
      "\u001b[1m1038/1038\u001b[0m \u001b[32m━━━━━━━━━━━━━━━━━━━━\u001b[0m\u001b[37m\u001b[0m \u001b[1m14s\u001b[0m 13ms/step - loss: 3.0043e-05 - val_loss: 0.0015\n",
      "Epoch 173/200\n",
      "\u001b[1m1038/1038\u001b[0m \u001b[32m━━━━━━━━━━━━━━━━━━━━\u001b[0m\u001b[37m\u001b[0m \u001b[1m14s\u001b[0m 13ms/step - loss: 2.6875e-05 - val_loss: 0.0014\n",
      "Epoch 174/200\n",
      "\u001b[1m1038/1038\u001b[0m \u001b[32m━━━━━━━━━━━━━━━━━━━━\u001b[0m\u001b[37m\u001b[0m \u001b[1m14s\u001b[0m 13ms/step - loss: 2.4520e-05 - val_loss: 0.0014\n",
      "Epoch 175/200\n",
      "\u001b[1m1038/1038\u001b[0m \u001b[32m━━━━━━━━━━━━━━━━━━━━\u001b[0m\u001b[37m\u001b[0m \u001b[1m14s\u001b[0m 13ms/step - loss: 3.0384e-05 - val_loss: 0.0015\n",
      "Epoch 176/200\n",
      "\u001b[1m1038/1038\u001b[0m \u001b[32m━━━━━━━━━━━━━━━━━━━━\u001b[0m\u001b[37m\u001b[0m \u001b[1m14s\u001b[0m 13ms/step - loss: 2.6613e-05 - val_loss: 0.0014\n",
      "Epoch 177/200\n",
      "\u001b[1m1038/1038\u001b[0m \u001b[32m━━━━━━━━━━━━━━━━━━━━\u001b[0m\u001b[37m\u001b[0m \u001b[1m14s\u001b[0m 13ms/step - loss: 2.3594e-05 - val_loss: 0.0014\n",
      "Epoch 178/200\n",
      "\u001b[1m1038/1038\u001b[0m \u001b[32m━━━━━━━━━━━━━━━━━━━━\u001b[0m\u001b[37m\u001b[0m \u001b[1m14s\u001b[0m 13ms/step - loss: 2.5599e-05 - val_loss: 0.0014\n",
      "Epoch 179/200\n",
      "\u001b[1m1038/1038\u001b[0m \u001b[32m━━━━━━━━━━━━━━━━━━━━\u001b[0m\u001b[37m\u001b[0m \u001b[1m14s\u001b[0m 13ms/step - loss: 2.9250e-05 - val_loss: 0.0014\n",
      "Epoch 180/200\n",
      "\u001b[1m1038/1038\u001b[0m \u001b[32m━━━━━━━━━━━━━━━━━━━━\u001b[0m\u001b[37m\u001b[0m \u001b[1m14s\u001b[0m 13ms/step - loss: 2.3047e-05 - val_loss: 0.0014\n",
      "Epoch 181/200\n",
      "\u001b[1m1038/1038\u001b[0m \u001b[32m━━━━━━━━━━━━━━━━━━━━\u001b[0m\u001b[37m\u001b[0m \u001b[1m14s\u001b[0m 13ms/step - loss: 2.5097e-05 - val_loss: 0.0014\n",
      "Epoch 182/200\n",
      "\u001b[1m1038/1038\u001b[0m \u001b[32m━━━━━━━━━━━━━━━━━━━━\u001b[0m\u001b[37m\u001b[0m \u001b[1m14s\u001b[0m 13ms/step - loss: 2.6807e-05 - val_loss: 0.0014\n",
      "Epoch 183/200\n",
      "\u001b[1m1038/1038\u001b[0m \u001b[32m━━━━━━━━━━━━━━━━━━━━\u001b[0m\u001b[37m\u001b[0m \u001b[1m14s\u001b[0m 13ms/step - loss: 2.3549e-05 - val_loss: 0.0014\n",
      "Epoch 184/200\n",
      "\u001b[1m1038/1038\u001b[0m \u001b[32m━━━━━━━━━━━━━━━━━━━━\u001b[0m\u001b[37m\u001b[0m \u001b[1m14s\u001b[0m 13ms/step - loss: 2.4091e-05 - val_loss: 0.0015\n",
      "Epoch 185/200\n",
      "\u001b[1m1038/1038\u001b[0m \u001b[32m━━━━━━━━━━━━━━━━━━━━\u001b[0m\u001b[37m\u001b[0m \u001b[1m14s\u001b[0m 13ms/step - loss: 2.2428e-05 - val_loss: 0.0014\n",
      "Epoch 186/200\n",
      "\u001b[1m1038/1038\u001b[0m \u001b[32m━━━━━━━━━━━━━━━━━━━━\u001b[0m\u001b[37m\u001b[0m \u001b[1m14s\u001b[0m 13ms/step - loss: 2.4664e-05 - val_loss: 0.0014\n",
      "Epoch 187/200\n",
      "\u001b[1m1038/1038\u001b[0m \u001b[32m━━━━━━━━━━━━━━━━━━━━\u001b[0m\u001b[37m\u001b[0m \u001b[1m14s\u001b[0m 13ms/step - loss: 2.2870e-05 - val_loss: 0.0014\n",
      "Epoch 188/200\n",
      "\u001b[1m1038/1038\u001b[0m \u001b[32m━━━━━━━━━━━━━━━━━━━━\u001b[0m\u001b[37m\u001b[0m \u001b[1m14s\u001b[0m 13ms/step - loss: 2.2105e-05 - val_loss: 0.0014\n",
      "Epoch 189/200\n",
      "\u001b[1m1038/1038\u001b[0m \u001b[32m━━━━━━━━━━━━━━━━━━━━\u001b[0m\u001b[37m\u001b[0m \u001b[1m14s\u001b[0m 13ms/step - loss: 2.6200e-05 - val_loss: 0.0014\n",
      "Epoch 190/200\n",
      "\u001b[1m1038/1038\u001b[0m \u001b[32m━━━━━━━━━━━━━━━━━━━━\u001b[0m\u001b[37m\u001b[0m \u001b[1m14s\u001b[0m 13ms/step - loss: 2.4091e-05 - val_loss: 0.0015\n",
      "Epoch 191/200\n",
      "\u001b[1m1038/1038\u001b[0m \u001b[32m━━━━━━━━━━━━━━━━━━━━\u001b[0m\u001b[37m\u001b[0m \u001b[1m14s\u001b[0m 13ms/step - loss: 2.4982e-05 - val_loss: 0.0014\n",
      "Epoch 192/200\n",
      "\u001b[1m1038/1038\u001b[0m \u001b[32m━━━━━━━━━━━━━━━━━━━━\u001b[0m\u001b[37m\u001b[0m \u001b[1m14s\u001b[0m 13ms/step - loss: 2.3358e-05 - val_loss: 0.0014\n",
      "Epoch 193/200\n",
      "\u001b[1m1038/1038\u001b[0m \u001b[32m━━━━━━━━━━━━━━━━━━━━\u001b[0m\u001b[37m\u001b[0m \u001b[1m14s\u001b[0m 13ms/step - loss: 2.4891e-05 - val_loss: 0.0014\n",
      "Epoch 194/200\n",
      "\u001b[1m1038/1038\u001b[0m \u001b[32m━━━━━━━━━━━━━━━━━━━━\u001b[0m\u001b[37m\u001b[0m \u001b[1m14s\u001b[0m 13ms/step - loss: 2.4970e-05 - val_loss: 0.0014\n",
      "Epoch 195/200\n",
      "\u001b[1m1038/1038\u001b[0m \u001b[32m━━━━━━━━━━━━━━━━━━━━\u001b[0m\u001b[37m\u001b[0m \u001b[1m14s\u001b[0m 13ms/step - loss: 2.6505e-05 - val_loss: 0.0015\n",
      "Epoch 196/200\n",
      "\u001b[1m1038/1038\u001b[0m \u001b[32m━━━━━━━━━━━━━━━━━━━━\u001b[0m\u001b[37m\u001b[0m \u001b[1m14s\u001b[0m 13ms/step - loss: 2.0058e-05 - val_loss: 0.0014\n",
      "Epoch 197/200\n",
      "\u001b[1m1038/1038\u001b[0m \u001b[32m━━━━━━━━━━━━━━━━━━━━\u001b[0m\u001b[37m\u001b[0m \u001b[1m14s\u001b[0m 13ms/step - loss: 2.6505e-05 - val_loss: 0.0015\n",
      "Epoch 198/200\n",
      "\u001b[1m1038/1038\u001b[0m \u001b[32m━━━━━━━━━━━━━━━━━━━━\u001b[0m\u001b[37m\u001b[0m \u001b[1m14s\u001b[0m 13ms/step - loss: 2.1313e-05 - val_loss: 0.0015\n",
      "Epoch 199/200\n",
      "\u001b[1m1038/1038\u001b[0m \u001b[32m━━━━━━━━━━━━━━━━━━━━\u001b[0m\u001b[37m\u001b[0m \u001b[1m14s\u001b[0m 13ms/step - loss: 2.5647e-05 - val_loss: 0.0014\n",
      "Epoch 200/200\n",
      "\u001b[1m1038/1038\u001b[0m \u001b[32m━━━━━━━━━━━━━━━━━━━━\u001b[0m\u001b[37m\u001b[0m \u001b[1m14s\u001b[0m 13ms/step - loss: 2.3669e-05 - val_loss: 0.0014\n"
     ]
    },
    {
     "data": {
      "text/plain": [
       "<keras_core.src.callbacks.history.History at 0x236ba21bd00>"
      ]
     },
     "execution_count": 59,
     "metadata": {},
     "output_type": "execute_result"
    }
   ],
   "source": [
    "full_model.fit(\n",
    "    x_full,\n",
    "    y_full,\n",
    "    batch_size=2**12,\n",
    "    epochs=200,\n",
    "    validation_split=0.15,\n",
    ")"
   ]
  },
  {
   "cell_type": "code",
   "execution_count": 60,
   "metadata": {},
   "outputs": [],
   "source": [
    "full_model.save('trained_models/full.keras')"
   ]
  },
  {
   "cell_type": "code",
   "execution_count": 7,
   "metadata": {},
   "outputs": [
    {
     "ename": "TypeError",
     "evalue": "Error when deserializing class 'Dense' using config={'name': 'dense_36', 'trainable': True, 'dtype': 'float32', 'units': 64, 'activation': 'relu', 'use_bias': True, 'kernel_initializer': {'module': 'keras_core.src.initializers.random_initializers', 'class_name': 'GlorotUniform', 'config': {'seed': None}, 'registered_name': 'GlorotUniform'}, 'bias_initializer': {'module': 'keras_core.src.initializers.constant_initializers', 'class_name': 'Zeros', 'config': {}, 'registered_name': 'Zeros'}, 'kernel_regularizer': None, 'bias_regularizer': None, 'kernel_constraint': None, 'bias_constraint': None}.\n\nException encountered: module 'keras_core.src.activations' has no attribute 'get'",
     "output_type": "error",
     "traceback": [
      "\u001b[1;31m---------------------------------------------------------------------------\u001b[0m",
      "\u001b[1;31mAttributeError\u001b[0m                            Traceback (most recent call last)",
      "File \u001b[1;32mc:\\Users\\David\\AppData\\Local\\Programs\\Python\\Python311\\Lib\\site-packages\\keras_core\\src\\ops\\operation.py:193\u001b[0m, in \u001b[0;36mOperation.from_config\u001b[1;34m(cls, config)\u001b[0m\n\u001b[0;32m    192\u001b[0m \u001b[39mtry\u001b[39;00m:\n\u001b[1;32m--> 193\u001b[0m     \u001b[39mreturn\u001b[39;00m \u001b[39mcls\u001b[39;49m(\u001b[39m*\u001b[39;49m\u001b[39m*\u001b[39;49mconfig)\n\u001b[0;32m    194\u001b[0m \u001b[39mexcept\u001b[39;00m \u001b[39mException\u001b[39;00m \u001b[39mas\u001b[39;00m e:\n",
      "File \u001b[1;32mc:\\Users\\David\\AppData\\Local\\Programs\\Python\\Python311\\Lib\\site-packages\\keras_core\\src\\layers\\core\\dense.py:75\u001b[0m, in \u001b[0;36mDense.__init__\u001b[1;34m(self, units, activation, use_bias, kernel_initializer, bias_initializer, kernel_regularizer, bias_regularizer, activity_regularizer, kernel_constraint, bias_constraint, **kwargs)\u001b[0m\n\u001b[0;32m     74\u001b[0m \u001b[39mself\u001b[39m\u001b[39m.\u001b[39munits \u001b[39m=\u001b[39m units\n\u001b[1;32m---> 75\u001b[0m \u001b[39mself\u001b[39m\u001b[39m.\u001b[39mactivation \u001b[39m=\u001b[39m activations\u001b[39m.\u001b[39;49mget(activation)\n\u001b[0;32m     76\u001b[0m \u001b[39mself\u001b[39m\u001b[39m.\u001b[39muse_bias \u001b[39m=\u001b[39m use_bias\n",
      "\u001b[1;31mAttributeError\u001b[0m: module 'keras_core.src.activations' has no attribute 'get'",
      "\nDuring handling of the above exception, another exception occurred:\n",
      "\u001b[1;31mTypeError\u001b[0m                                 Traceback (most recent call last)",
      "Cell \u001b[1;32mIn[7], line 1\u001b[0m\n\u001b[1;32m----> 1\u001b[0m full_model \u001b[39m=\u001b[39m keras\u001b[39m.\u001b[39;49mmodels\u001b[39m.\u001b[39;49mload_model(\u001b[39m'\u001b[39;49m\u001b[39mtrained_models/full.keras\u001b[39;49m\u001b[39m'\u001b[39;49m)\n",
      "File \u001b[1;32mc:\\Users\\David\\AppData\\Local\\Programs\\Python\\Python311\\Lib\\site-packages\\keras_core\\src\\saving\\saving_api.py:177\u001b[0m, in \u001b[0;36mload_model\u001b[1;34m(filepath, custom_objects, compile, safe_mode)\u001b[0m\n\u001b[0;32m    174\u001b[0m         is_keras_zip \u001b[39m=\u001b[39m \u001b[39mTrue\u001b[39;00m\n\u001b[0;32m    176\u001b[0m \u001b[39mif\u001b[39;00m is_keras_zip:\n\u001b[1;32m--> 177\u001b[0m     \u001b[39mreturn\u001b[39;00m saving_lib\u001b[39m.\u001b[39;49mload_model(\n\u001b[0;32m    178\u001b[0m         filepath,\n\u001b[0;32m    179\u001b[0m         custom_objects\u001b[39m=\u001b[39;49mcustom_objects,\n\u001b[0;32m    180\u001b[0m         \u001b[39mcompile\u001b[39;49m\u001b[39m=\u001b[39;49m\u001b[39mcompile\u001b[39;49m,\n\u001b[0;32m    181\u001b[0m         safe_mode\u001b[39m=\u001b[39;49msafe_mode,\n\u001b[0;32m    182\u001b[0m     )\n\u001b[0;32m    183\u001b[0m \u001b[39mif\u001b[39;00m \u001b[39mstr\u001b[39m(filepath)\u001b[39m.\u001b[39mendswith((\u001b[39m\"\u001b[39m\u001b[39m.h5\u001b[39m\u001b[39m\"\u001b[39m, \u001b[39m\"\u001b[39m\u001b[39m.hdf5\u001b[39m\u001b[39m\"\u001b[39m)):\n\u001b[0;32m    184\u001b[0m     \u001b[39mreturn\u001b[39;00m legacy_h5_format\u001b[39m.\u001b[39mload_model_from_hdf5(filepath)\n",
      "File \u001b[1;32mc:\\Users\\David\\AppData\\Local\\Programs\\Python\\Python311\\Lib\\site-packages\\keras_core\\src\\saving\\saving_lib.py:153\u001b[0m, in \u001b[0;36mload_model\u001b[1;34m(filepath, custom_objects, compile, safe_mode)\u001b[0m\n\u001b[0;32m    151\u001b[0m \u001b[39m# Construct the model from the configuration file in the archive.\u001b[39;00m\n\u001b[0;32m    152\u001b[0m \u001b[39mwith\u001b[39;00m ObjectSharingScope():\n\u001b[1;32m--> 153\u001b[0m     model \u001b[39m=\u001b[39m deserialize_keras_object(\n\u001b[0;32m    154\u001b[0m         config_dict, custom_objects, safe_mode\u001b[39m=\u001b[39;49msafe_mode\n\u001b[0;32m    155\u001b[0m     )\n\u001b[0;32m    157\u001b[0m all_filenames \u001b[39m=\u001b[39m zf\u001b[39m.\u001b[39mnamelist()\n\u001b[0;32m    158\u001b[0m \u001b[39mif\u001b[39;00m _VARS_FNAME \u001b[39m+\u001b[39m \u001b[39m\"\u001b[39m\u001b[39m.h5\u001b[39m\u001b[39m\"\u001b[39m \u001b[39min\u001b[39;00m all_filenames:\n",
      "File \u001b[1;32mc:\\Users\\David\\AppData\\Local\\Programs\\Python\\Python311\\Lib\\site-packages\\keras_core\\src\\saving\\serialization_lib.py:679\u001b[0m, in \u001b[0;36mdeserialize_keras_object\u001b[1;34m(config, custom_objects, safe_mode, **kwargs)\u001b[0m\n\u001b[0;32m    677\u001b[0m safe_mode_scope \u001b[39m=\u001b[39m SafeModeScope(safe_mode)\n\u001b[0;32m    678\u001b[0m \u001b[39mwith\u001b[39;00m custom_obj_scope, safe_mode_scope:\n\u001b[1;32m--> 679\u001b[0m     instance \u001b[39m=\u001b[39m \u001b[39mcls\u001b[39;49m\u001b[39m.\u001b[39;49mfrom_config(inner_config)\n\u001b[0;32m    680\u001b[0m     build_config \u001b[39m=\u001b[39m config\u001b[39m.\u001b[39mget(\u001b[39m\"\u001b[39m\u001b[39mbuild_config\u001b[39m\u001b[39m\"\u001b[39m, \u001b[39mNone\u001b[39;00m)\n\u001b[0;32m    681\u001b[0m     \u001b[39mif\u001b[39;00m build_config \u001b[39mand\u001b[39;00m \u001b[39mnot\u001b[39;00m instance\u001b[39m.\u001b[39mbuilt:\n",
      "File \u001b[1;32mc:\\Users\\David\\AppData\\Local\\Programs\\Python\\Python311\\Lib\\site-packages\\keras_core\\src\\models\\sequential.py:316\u001b[0m, in \u001b[0;36mSequential.from_config\u001b[1;34m(cls, config, custom_objects)\u001b[0m\n\u001b[0;32m    311\u001b[0m         layer \u001b[39m=\u001b[39m saving_utils\u001b[39m.\u001b[39mmodel_from_config(\n\u001b[0;32m    312\u001b[0m             layer_config,\n\u001b[0;32m    313\u001b[0m             custom_objects\u001b[39m=\u001b[39mcustom_objects,\n\u001b[0;32m    314\u001b[0m         )\n\u001b[0;32m    315\u001b[0m     \u001b[39melse\u001b[39;00m:\n\u001b[1;32m--> 316\u001b[0m         layer \u001b[39m=\u001b[39m serialization_lib\u001b[39m.\u001b[39;49mdeserialize_keras_object(\n\u001b[0;32m    317\u001b[0m             layer_config,\n\u001b[0;32m    318\u001b[0m             custom_objects\u001b[39m=\u001b[39;49mcustom_objects,\n\u001b[0;32m    319\u001b[0m         )\n\u001b[0;32m    320\u001b[0m     model\u001b[39m.\u001b[39madd(layer)\n\u001b[0;32m    321\u001b[0m \u001b[39mif\u001b[39;00m (\n\u001b[0;32m    322\u001b[0m     \u001b[39mnot\u001b[39;00m model\u001b[39m.\u001b[39m_functional\n\u001b[0;32m    323\u001b[0m     \u001b[39mand\u001b[39;00m build_input_shape\n\u001b[0;32m    324\u001b[0m     \u001b[39mand\u001b[39;00m \u001b[39misinstance\u001b[39m(build_input_shape, (\u001b[39mtuple\u001b[39m, \u001b[39mlist\u001b[39m))\n\u001b[0;32m    325\u001b[0m ):\n",
      "File \u001b[1;32mc:\\Users\\David\\AppData\\Local\\Programs\\Python\\Python311\\Lib\\site-packages\\keras_core\\src\\saving\\serialization_lib.py:679\u001b[0m, in \u001b[0;36mdeserialize_keras_object\u001b[1;34m(config, custom_objects, safe_mode, **kwargs)\u001b[0m\n\u001b[0;32m    677\u001b[0m safe_mode_scope \u001b[39m=\u001b[39m SafeModeScope(safe_mode)\n\u001b[0;32m    678\u001b[0m \u001b[39mwith\u001b[39;00m custom_obj_scope, safe_mode_scope:\n\u001b[1;32m--> 679\u001b[0m     instance \u001b[39m=\u001b[39m \u001b[39mcls\u001b[39;49m\u001b[39m.\u001b[39;49mfrom_config(inner_config)\n\u001b[0;32m    680\u001b[0m     build_config \u001b[39m=\u001b[39m config\u001b[39m.\u001b[39mget(\u001b[39m\"\u001b[39m\u001b[39mbuild_config\u001b[39m\u001b[39m\"\u001b[39m, \u001b[39mNone\u001b[39;00m)\n\u001b[0;32m    681\u001b[0m     \u001b[39mif\u001b[39;00m build_config \u001b[39mand\u001b[39;00m \u001b[39mnot\u001b[39;00m instance\u001b[39m.\u001b[39mbuilt:\n",
      "File \u001b[1;32mc:\\Users\\David\\AppData\\Local\\Programs\\Python\\Python311\\Lib\\site-packages\\keras_core\\src\\ops\\operation.py:195\u001b[0m, in \u001b[0;36mOperation.from_config\u001b[1;34m(cls, config)\u001b[0m\n\u001b[0;32m    193\u001b[0m     \u001b[39mreturn\u001b[39;00m \u001b[39mcls\u001b[39m(\u001b[39m*\u001b[39m\u001b[39m*\u001b[39mconfig)\n\u001b[0;32m    194\u001b[0m \u001b[39mexcept\u001b[39;00m \u001b[39mException\u001b[39;00m \u001b[39mas\u001b[39;00m e:\n\u001b[1;32m--> 195\u001b[0m     \u001b[39mraise\u001b[39;00m \u001b[39mTypeError\u001b[39;00m(\n\u001b[0;32m    196\u001b[0m         \u001b[39mf\u001b[39m\u001b[39m\"\u001b[39m\u001b[39mError when deserializing class \u001b[39m\u001b[39m'\u001b[39m\u001b[39m{\u001b[39;00m\u001b[39mcls\u001b[39m\u001b[39m.\u001b[39m\u001b[39m__name__\u001b[39m\u001b[39m}\u001b[39;00m\u001b[39m'\u001b[39m\u001b[39m using \u001b[39m\u001b[39m\"\u001b[39m\n\u001b[0;32m    197\u001b[0m         \u001b[39mf\u001b[39m\u001b[39m\"\u001b[39m\u001b[39mconfig=\u001b[39m\u001b[39m{\u001b[39;00mconfig\u001b[39m}\u001b[39;00m\u001b[39m.\u001b[39m\u001b[39m\\n\u001b[39;00m\u001b[39m\\n\u001b[39;00m\u001b[39mException encountered: \u001b[39m\u001b[39m{\u001b[39;00me\u001b[39m}\u001b[39;00m\u001b[39m\"\u001b[39m\n\u001b[0;32m    198\u001b[0m     )\n",
      "\u001b[1;31mTypeError\u001b[0m: Error when deserializing class 'Dense' using config={'name': 'dense_36', 'trainable': True, 'dtype': 'float32', 'units': 64, 'activation': 'relu', 'use_bias': True, 'kernel_initializer': {'module': 'keras_core.src.initializers.random_initializers', 'class_name': 'GlorotUniform', 'config': {'seed': None}, 'registered_name': 'GlorotUniform'}, 'bias_initializer': {'module': 'keras_core.src.initializers.constant_initializers', 'class_name': 'Zeros', 'config': {}, 'registered_name': 'Zeros'}, 'kernel_regularizer': None, 'bias_regularizer': None, 'kernel_constraint': None, 'bias_constraint': None}.\n\nException encountered: module 'keras_core.src.activations' has no attribute 'get'"
     ]
    }
   ],
   "source": [
    "full_model = keras.models.load_model('trained_models/full.keras')"
   ]
  },
  {
   "cell_type": "code",
   "execution_count": 19,
   "metadata": {},
   "outputs": [
    {
     "name": "stdout",
     "output_type": "stream",
     "text": [
      "\u001b[1m2/2\u001b[0m \u001b[32m━━━━━━━━━━━━━━━━━━━━\u001b[0m\u001b[37m\u001b[0m \u001b[1m0s\u001b[0m 0s/step\n",
      "(50, 3)\n"
     ]
    },
    {
     "data": {
      "image/png": "[encoded data removed]",
      "text/plain": [
       "<Figure size 640x480 with 1 Axes>"
      ]
     },
     "metadata": {},
     "output_type": "display_data"
    }
   ],
   "source": [
    "analytical_model = SingleOccupationSingleIsotope(2,1)\n",
    "c_init = analytical_model.initial_values()\n",
    "ts, cs = analytical_model.solve(c_init,50)\n",
    "params = analytical_model.get_relevant_params()\n",
    "inputs = np.repeat([c_init],len(ts),axis=0)\n",
    "inputs = np.append(ts.reshape(-1,1),inputs,axis=1)\n",
    "inputs = np.append(inputs,np.repeat([params],len(ts),axis=0),axis=1)\n",
    "predictions = full_model.predict(inputs)\n",
    "delta = np.abs(cs-predictions.T)\n",
    "max_delta = np.max(delta)\n",
    "colors = []\n",
    "for c in cs:\n",
    "    p = plt.plot(ts,c,label= \"Analytical\", linestyle = \"--\", linewidth = 2)\n",
    "    colors.append(p[0].get_color())\n",
    "print(predictions.shape)\n",
    "for color, prediction in zip(colors,predictions.T):\n",
    "    plt.plot(ts,prediction, label=\"NN\", color=color)\n",
    "plt.legend()\n",
    "plt.ylabel(\"Concentration\")\n",
    "plt.xlabel(\"Time\")\n",
    "plt.title(f\"Full Model, Transition Rates as Input\\nmax error: {max_delta:.2e}\")\n",
    "\n",
    "plt.grid()"
   ]
  },
  {
   "cell_type": "code",
   "execution_count": null,
   "metadata": {},
   "outputs": [],
   "source": []
  }
 ],
 "metadata": {
  "kernelspec": {
   "display_name": "Python 3",
   "language": "python",
   "name": "python3"
  },
  "language_info": {
   "codemirror_mode": {
    "name": "ipython",
    "version": 3
   },
   "file_extension": ".py",
   "mimetype": "text/x-python",
   "name": "python",
   "nbconvert_exporter": "python",
   "pygments_lexer": "ipython3",
   "version": "3.9.13"
  },
  "orig_nbformat": 4
 },
 "nbformat": 4,
 "nbformat_minor": 2
}

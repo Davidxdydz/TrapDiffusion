{
 "cells": [
  {
   "cell_type": "code",
   "execution_count": 1,
   "metadata": {},
   "outputs": [],
   "source": [
    "from scipy.integrate import odeint\n",
    "import numpy as np\n",
    "import matplotlib.pyplot as plt\n",
    "from trapdiffusion import TrapDiffusion, hadamard"
   ]
  },
  {
   "cell_type": "markdown",
   "metadata": {},
   "source": [
    "# Standard Trap-Diffusion Model"
   ]
  },
  {
   "cell_type": "markdown",
   "metadata": {},
   "source": [
    "## Single-Oppucation, Single Isotope Model"
   ]
  },
  {
   "cell_type": "markdown",
   "metadata": {},
   "source": [
    "\\begin{aligned}\n",
    "&\\begin{aligned}\n",
    "\\frac{d}{d t}\\left(\\begin{array}{c}\n",
    "c_s \\\\\n",
    "c_{t, 1} \\\\\n",
    "c_{t, 2}\n",
    "\\end{array}\\right) & =\\left(\\begin{array}{l}\n",
    "1 / c^S \\\\\n",
    "1 / c_1^T \\\\\n",
    "1 / c_2^T\n",
    "\\end{array}\\right) \\circ \\\\\n",
    "& \\left\\{\\left(\\begin{array}{ccc}\n",
    "-\\left(a_{T_1 S} c_1^T \\sigma+a_{T_2 S} c_2^T \\sigma\\right) c^S & a_{S T_1} c_1^T & a_{S T_2} c_2^T \\\\\n",
    "a_{T_1 S} c^S c_1^T \\sigma & -a_{S T_1} c_1^T & 0 \\\\\n",
    "a_{T_2 S} c^S c_2^T \\sigma & 0 & -a_{S T_2} c_2^T\n",
    "\\end{array}\\right)\\left(\\begin{array}{c}\n",
    "c_s \\\\\n",
    "c_{t, 1} \\\\\n",
    "c_{t, 2}\n",
    "\\end{array}\\right)\\right.\n",
    "\\end{aligned}\\\\\n",
    "&\\left.+\\left[\\left(\\begin{array}{c}\n",
    "c_s \\\\\n",
    "c_{t, 1} \\\\\n",
    "c_{t, 2}\n",
    "\\end{array}\\right) \\circ\\left(\\begin{array}{ccc}\n",
    "0 & \\frac{a_{T_1 s} s^S c_1^T \\sigma}{c_{t, 1}^{M a x}} & \\frac{a_{T_2 s} s^S c_2^T \\sigma}{c_{t, 2}^{M a x}} \\\\\n",
    "-\\frac{a_{T_1 s} c^s c_1^T \\sigma}{c_{t, 1}^{M a x}} & 0 & 0 \\\\\n",
    "-\\frac{a_{T_2 s} c^T c_2^T \\sigma}{c_{t, 2}^{M a x}} & 0 & 0\n",
    "\\end{array}\\right)\\left(\\begin{array}{c}\n",
    "c_s \\\\\n",
    "c_{t, 1} \\\\\n",
    "c_{t, 2}\n",
    "\\end{array}\\right)\\right]\\right\\}\n",
    "\\end{aligned}"
   ]
  },
  {
   "cell_type": "markdown",
   "metadata": {},
   "source": [
    "$$\n",
    "\\begin{equation}\n",
    "\\frac{d}{d t} \\vec{c}_{s, t}=\\left(\\frac{1}{\\vec{c}^{ S / T}}\\right) \\circ\\left[\\underline{\\underline{\\mathbf{A}}} \\vec{c}_{s, t}+\\vec{c}_{s, t} \\circ \\underline{\\underline{\\mathbf{B}}} \\vec{c}_{S, t}\\right] .\n",
    "\\end{equation}\n",
    "$$"
   ]
  },
  {
   "cell_type": "markdown",
   "metadata": {},
   "source": [
    "$$\n",
    "\\begin{equation}\n",
    "\\underline{\\underline{\\mathbf{A}}}=\\underline{\\underline{\\tilde{A}}} \\underline{\\underline{\\mathbf{C}}}=\\left(\\begin{array}{ccc}\n",
    "-\\left(a_{T_1 S} c_1^T \\sigma+a_{T_2 S} c_2^T \\sigma\\right) & a_{S T_1} & a_{S T_2} \\\\\n",
    "a_{T_1 S} c_1^T \\sigma & -a_{S T_1} & 0 \\\\\n",
    "a_{T_2} s c_2^T \\sigma & 0 & -a_{S T_2}\n",
    "\\end{array}\\right)\\left(\\begin{array}{ccc}\n",
    "c^S & 0 & 0 \\\\\n",
    "0 & c_1^T & 0 \\\\\n",
    "0 & 0 & c_2^T\n",
    "\\end{array}\\right)\n",
    "\\end{equation}\n",
    "$$"
   ]
  },
  {
   "cell_type": "code",
   "execution_count": 2,
   "metadata": {},
   "outputs": [],
   "source": [
    "class SingleOccupationSingleIsotope(TrapDiffusion):\n",
    "    def __init__(self,seed = None):\n",
    "        TrapDiffusion.__init__(self, \"Single-Occupation, Single-Isotope Model\")\n",
    "        np.random.seed(seed)\n",
    "\n",
    "        # concentraion of trap sites and solute sites.\n",
    "        # c_S_T = [c_S, c_T_1, c_T_2]\n",
    "        self.c_S_T = np.random.random(3)\n",
    "        self.c_S_T = self.c_S_T / np.sum(self.c_S_T)\n",
    "        c_S, c_T_1, c_T_2 = self.c_S_T\n",
    "\n",
    "        # site concentration matrix\n",
    "        self.C = np.diag(self.c_S_T)\n",
    "\n",
    "        # max trap conentration, has to be greater than current concentration\n",
    "        self.c_Max_1 = np.random.uniform(0,0.5)\n",
    "        self.c_Max_2 = np.random.uniform(0,0.5)\n",
    "\n",
    "        # capture cross-section of trap-site\n",
    "        self.sigma = 1\n",
    "\n",
    "        # base transition rates\n",
    "        self.a = np.random.random((3,3))\n",
    "\n",
    "        # transition rate matrix\n",
    "        self.A_tilde = np.array([\n",
    "            [-(self.a[1,0]* c_T_1*self.sigma + self.a[2,0]*c_T_2*self.sigma), self.a[0,1], self.a[0,2]],\n",
    "            [self.a[1,0]*c_T_1*self.sigma, -self.a[0,1], 0],\n",
    "            [self.a[2,0]*c_T_2*self.sigma, 0, -self.a[0,2]]\n",
    "        ])\n",
    "\n",
    "        self.A = self.A_tilde @ self.C\n",
    "\n",
    "        self.B = np.array([\n",
    "            [0, (self.a[1,0]*c_S*c_T_1*self.sigma)/ self.c_Max_1, (self.a[2,0]*c_S*c_T_2*self.sigma)/ self.c_Max_2],\n",
    "            [0, 0, 0],\n",
    "            [0, 0, 0]\n",
    "        ])\n",
    "        # fill in anty-symmetric part\n",
    "        self.B[:, 0] = -self.B[0,:]\n",
    "\n",
    "        # random start concetrations\n",
    "        self.c = np.random.random(3)\n",
    "        self.c[1] *= self.c_Max_1\n",
    "        self.c[2] *= self.c_Max_2\n",
    "        self.c[0] = 1 - self.c[1] - self.c[2]\n",
    "\n",
    "    def rhs(self,c,t):\n",
    "        return hadamard(1/self.c_S_T, self.A@c + hadamard(c,self.B@c))\n",
    "\n",
    "    def jacobian(self,c,t):\n",
    "        return hadamard(1/self.c_S_T, self.A + hadamard(np.ones(3), self.B@c) + hadamard(c,self.B))\n",
    "    \n",
    "    @property\n",
    "    def vector_description(self):\n",
    "        return {\n",
    "            0: \"$c_S$\",\n",
    "            1: \"$c_{T_1}$\",\n",
    "            2: \"$c_{T_2}$\"\n",
    "        }\n",
    "    \n",
    "    def plot_details(self):\n",
    "        plt.hlines([self.c_Max_1], 0, self.ts[-1], linestyles = \"dashed\", color = \"black\")\n",
    "        plt.text(self.ts[-1], self.c_Max_1, \"$c^{Max}_{t,1}$\")\n",
    "        plt.hlines([self.c_Max_2], 0, self.ts[-1], linestyles = \"dashed\", color = \"black\")\n",
    "        plt.text(self.ts[-1], self.c_Max_2, \"$c^{Max}_{t,2}$\")\n"
   ]
  },
  {
   "cell_type": "markdown",
   "metadata": {},
   "source": [
    "- $c_{t,i}$ : concentration of hydrogen trapped in trap of type i\n",
    "- $c_j^T$ : concentration of traps of type j\n",
    "- $c_{s}$ : concentration of solute hydrogen in non-trap (solute) sites\n",
    "- $c^S$ : concentration of solute sites\n",
    "- $a_{i\\leftarrow j}$ : transition rate from j to i, typically in matrix notation in row i and columnn j\n",
    "- $c_{t,i}^{Max} $ : the upper limit (maximum) of the hydrogen concentration which can be trapped in a trap of type i (capacity limit of trap)\n",
    "- $\\sigma$ : capture cross-section of a trap-site"
   ]
  },
  {
   "cell_type": "code",
   "execution_count": 3,
   "metadata": {},
   "outputs": [
    {
     "data": {
      "image/png": "[encoded data removed]",
      "text/plain": [
       "<Figure size 640x480 with 1 Axes>"
      ]
     },
     "metadata": {},
     "output_type": "display_data"
    }
   ],
   "source": [
    "SingleOccupationSingleIsotope().plot()"
   ]
  },
  {
   "cell_type": "markdown",
   "metadata": {},
   "source": [
    "## Single-Occupation, Multiple Isotope Model"
   ]
  },
  {
   "cell_type": "markdown",
   "metadata": {},
   "source": []
  }
 ],
 "metadata": {
  "kernelspec": {
   "display_name": "Python 3",
   "language": "python",
   "name": "python3"
  },
  "language_info": {
   "codemirror_mode": {
    "name": "ipython",
    "version": 3
   },
   "file_extension": ".py",
   "mimetype": "text/x-python",
   "name": "python",
   "nbconvert_exporter": "python",
   "pygments_lexer": "ipython3",
   "version": "3.9.13"
  },
  "orig_nbformat": 4
 },
 "nbformat": 4,
 "nbformat_minor": 2
}
